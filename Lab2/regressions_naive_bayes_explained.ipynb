{
 "cells": [
  {
   "metadata": {},
   "cell_type": "markdown",
   "source": "# Laborator",
   "id": "b05bac738d5a1080"
  },
  {
   "metadata": {},
   "cell_type": "markdown",
   "source": "**Sarcină:** Dezbateți și adnotați rezolvările problemelor",
   "id": "3475c6080b39813f"
  },
  {
   "metadata": {},
   "cell_type": "markdown",
   "source": "## Regresie polinomială",
   "id": "d46cd783c76fe624"
  },
  {
   "metadata": {},
   "cell_type": "markdown",
   "source": [
    "### Cerință\n",
    "\n",
    "Un magazin de înghețată vrea să prezică vânzările zilnice în funcție de temperatură.\n",
    "\n",
    "Date:\n",
    "- Temperatură (&deg;C): `[15, 18, 20, 22, 25, 27, 30, 32, 35, 37, 40]`\n",
    "- Vânzări (unități): `[20, 35, 50, 70, 100, 130, 170, 190, 220, 235, 250]`\n",
    "\n",
    "Sarcini:\n",
    "1. Vizualizarea datelor (linear vs curved)\n",
    "2. Antrenarea modelelor de regresie polinomială de grad 1, 2 și 3\n",
    "3. Calculare MAE, MSE, RMSE și R<sup>2</sup>\n",
    "4. Determinare ce temperatură e optimă\n",
    "5. Predicție pentru 28&deg;C\n",
    "6. Discuție overfitting vs underfitting"
   ],
   "id": "13f1c2e29e8066a3"
  },
  {
   "metadata": {},
   "cell_type": "markdown",
   "source": "### Rezolvare",
   "id": "a903865e04d3c4ad"
  },
  {
   "metadata": {},
   "cell_type": "markdown",
   "source": "Importăm bibliotecile necesare.",
   "id": "2bb1cfff8b765af3"
  },
  {
   "metadata": {
    "ExecuteTime": {
     "end_time": "2025-10-24T18:07:07.828797Z",
     "start_time": "2025-10-24T18:07:07.748137Z"
    }
   },
   "cell_type": "code",
   "source": [
    "import matplotlib.pyplot as plt # pentru grafice\n",
    "import numpy as np # pentru calcul algebric\n",
    "from sklearn.linear_model import LinearRegression # algoritmul principal de regresie\n",
    "from sklearn.metrics import mean_absolute_error, mean_squared_error, r2_score # metrici de evaluare\n",
    "from sklearn.preprocessing import PolynomialFeatures # pentru diferitele grade polinomiale"
   ],
   "id": "e4592cabc0d0a27",
   "outputs": [],
   "execution_count": 1
  },
  {
   "metadata": {},
   "cell_type": "markdown",
   "source": "Definim datele cu care vom lucra (din enunțul problemei).",
   "id": "d87e3059bf14dfbd"
  },
  {
   "metadata": {
    "ExecuteTime": {
     "end_time": "2025-10-24T18:07:07.893459Z",
     "start_time": "2025-10-24T18:07:07.890937Z"
    }
   },
   "cell_type": "code",
   "source": [
    "temperature = np.array([15, 18, 20, 22, 25, 27, 30, 32, 35, 37, 40]).reshape(-1, 1) # temperaturile\n",
    "sales = np.array([20, 35, 50, 70, 100, 130, 170, 190, 220, 235, 250]) # unitățile vândute"
   ],
   "id": "5043d0a2ae73dd08",
   "outputs": [],
   "execution_count": 2
  },
  {
   "metadata": {},
   "cell_type": "markdown",
   "source": "Trasăm grafic punctele din textul problemei pentru vizualizare.",
   "id": "4922339997c6bf71"
  },
  {
   "metadata": {
    "ExecuteTime": {
     "end_time": "2025-10-24T18:07:07.977165Z",
     "start_time": "2025-10-24T18:07:07.902207Z"
    }
   },
   "cell_type": "code",
   "source": [
    "plt.figure(figsize=(12, 4))\n",
    "plt.subplot(1, 3, 1)\n",
    "plt.scatter(temperature, sales, color='blue', s=50)\n",
    "plt.xlabel('Temperature (°C)')\n",
    "plt.ylabel('Sales (units)')\n",
    "plt.title('Original Data')\n",
    "plt.grid(True)"
   ],
   "id": "d0f853b7331b3f1f",
   "outputs": [
    {
     "data": {
      "text/plain": [
       "<Figure size 1200x400 with 1 Axes>"
      ],
      "image/png": "[encoded data removed]"
     },
     "metadata": {},
     "output_type": "display_data"
    }
   ],
   "execution_count": 3
  },
  {
   "metadata": {},
   "cell_type": "markdown",
   "source": "Pregătim variabilele necesare pentru antrenarea, salvarea și utilizarea modelelor de regresie polinomială.",
   "id": "a6512c512f0f30b6"
  },
  {
   "metadata": {
    "ExecuteTime": {
     "end_time": "2025-10-24T18:07:07.988129Z",
     "start_time": "2025-10-24T18:07:07.985903Z"
    }
   },
   "cell_type": "code",
   "source": [
    "degrees = [1, 2, 3] # vom calcula regresii polinomiale de ordinul 1, 2 și 3\n",
    "models = {} # salvăm modelele de regresie\n",
    "predictions = {} # salvăm predicțiile acestora"
   ],
   "id": "eaa84b94e392ff3d",
   "outputs": [],
   "execution_count": 4
  },
  {
   "metadata": {},
   "cell_type": "markdown",
   "source": "Definim o funcție care pentru un grad polinomial dat (1, 2, 3 etc.) crează și antrenează un model de regresie polinomială. După antrenare afișează graficul fiecărei funcții rezultate.",
   "id": "f33c1d9f0eae3340"
  },
  {
   "metadata": {
    "ExecuteTime": {
     "end_time": "2025-10-24T18:07:08.004855Z",
     "start_time": "2025-10-24T18:07:08.000597Z"
    }
   },
   "cell_type": "code",
   "source": [
    "# pentru antrenarea și salvarea a câte un model de regresie pentru fiecare grad\n",
    "def train_and_plot(degree):\n",
    "    poly = PolynomialFeatures(degree=degree)\n",
    "    X_poly = poly.fit_transform(temperature) # transformarea datelor de intrare (temperaturilor într-o formă adecvată funcției polinomiale)\n",
    "\n",
    "    model = LinearRegression() # încărcarea modelului\n",
    "    model.fit(X_poly, sales) # antrenarea modelului\n",
    "    models[degree] = (poly, model) # salvarea modelului\n",
    "\n",
    "    y_pred = model.predict(X_poly) # generarea predicțiilor\n",
    "    predictions[degree] = y_pred # salvarea predicțiilor\n",
    "\n",
    "    # calcularea metricilor de evaluare\n",
    "    mae = mean_absolute_error(sales, y_pred)\n",
    "    mse = mean_squared_error(sales, y_pred)\n",
    "    rmse = np.sqrt(mse)\n",
    "    r2 = r2_score(sales, y_pred)\n",
    "\n",
    "    # afișarea metricilor de evaluare\n",
    "    print(f\"\\n=== Polynomial Degree {degree} ===\")\n",
    "    print(f\"MAE:  {mae:.2f}\")\n",
    "    print(f\"MSE:  {mse:.2f}\")\n",
    "    print(f\"RMSE: {rmse:.2f}\")\n",
    "    print(f\"R²:   {r2:.4f}\")\n",
    "\n",
    "    # afișarea coeficienților și a termenului liber a funcției\n",
    "    print(f\"Coefficients: {model.coef_}\")\n",
    "    print(f\"Intercept: {model.intercept_:.2f}\")\n",
    "\n",
    "    # pregătirea intervalelor de afișare pentru grafic\n",
    "    temp_range = np.linspace(15, 40, 100).reshape(-1, 1)\n",
    "    X_poly_range = poly.transform(temp_range)\n",
    "    y_range = model.predict(X_poly_range)\n",
    "\n",
    "    # afișarea graficului funcției\n",
    "    plt.subplot(1, 3, degree)\n",
    "    plt.scatter(temperature, sales, color='blue', s=50, label='Data')\n",
    "    plt.plot(temp_range, y_range, color='red', linewidth=2, label=f'Degree {degree}')\n",
    "    plt.xlabel('Temperature (°C)')\n",
    "    plt.ylabel('Sales (units)')\n",
    "    plt.title(f'Degree {degree} (R²={r2:.4f})')\n",
    "    plt.legend()\n",
    "    plt.grid(True)"
   ],
   "id": "a827ae19e463b33b",
   "outputs": [],
   "execution_count": 5
  },
  {
   "metadata": {},
   "cell_type": "markdown",
   "source": "În continuare vom rula funcția pentru fiecare grad.",
   "id": "37a813785160c60c"
  },
  {
   "metadata": {
    "ExecuteTime": {
     "end_time": "2025-10-24T18:19:26.836554Z",
     "start_time": "2025-10-24T18:19:26.753333Z"
    }
   },
   "cell_type": "code",
   "source": [
    "plt.figure(figsize=(12, 4)) # pentru afișarea corectă a graficului\n",
    "train_and_plot(1)"
   ],
   "id": "2957f3db1b6db4b1",
   "outputs": [
    {
     "name": "stdout",
     "output_type": "stream",
     "text": [
      "\n",
      "=== Polynomial Degree 1 ===\n",
      "MAE:  7.72\n",
      "MSE:  74.41\n",
      "RMSE: 8.63\n",
      "R²:   0.9884\n",
      "Coefficients: [ 0.         10.21688877]\n",
      "Intercept: -145.93\n"
     ]
    },
    {
     "data": {
      "text/plain": [
       "<Figure size 1200x400 with 1 Axes>"
      ],
      "image/png": "[encoded data removed]"
     },
     "metadata": {},
     "output_type": "display_data"
    }
   ],
   "execution_count": 37
  },
  {
   "metadata": {},
   "cell_type": "markdown",
   "source": "Funcția de gradul 1 este o dreaptă. După antrenare aceasta este $f(x) = - 145.93 + 10.21688877 * x$.",
   "id": "14e763164c3908b0"
  },
  {
   "metadata": {
    "ExecuteTime": {
     "end_time": "2025-10-24T18:19:30.993258Z",
     "start_time": "2025-10-24T18:19:30.911350Z"
    }
   },
   "cell_type": "code",
   "source": [
    "plt.figure(figsize=(12, 4)) # pentru afișarea corectă a graficului\n",
    "train_and_plot(2)"
   ],
   "id": "c1583dd85d0dc70e",
   "outputs": [
    {
     "name": "stdout",
     "output_type": "stream",
     "text": [
      "\n",
      "=== Polynomial Degree 2 ===\n",
      "MAE:  7.72\n",
      "MSE:  74.38\n",
      "RMSE: 8.62\n",
      "R²:   0.9884\n",
      "Coefficients: [ 0.00000000e+00  1.03936742e+01 -3.21289922e-03]\n",
      "Intercept: -148.17\n"
     ]
    },
    {
     "data": {
      "text/plain": [
       "<Figure size 1200x400 with 1 Axes>"
      ],
      "image/png": "[encoded data removed]"
     },
     "metadata": {},
     "output_type": "display_data"
    }
   ],
   "execution_count": 38
  },
  {
   "metadata": {},
   "cell_type": "markdown",
   "source": "Funcția de gradul 2 este o curbă. Modelul a învățat următorii coeficienț: $[0, 10.39..., -0.00321]$ și un intercept (termen liber) de $-148.17$. Aceștia corespund ecuației: $f(x) = -148.17 + 10.3936742 * x - 0.00321 * x ^ 2$.",
   "id": "98526aed322334f8"
  },
  {
   "metadata": {
    "ExecuteTime": {
     "end_time": "2025-10-24T18:07:08.260259Z",
     "start_time": "2025-10-24T18:07:08.185764Z"
    }
   },
   "cell_type": "code",
   "source": [
    "plt.figure(figsize=(12, 4)) # pentru afișarea corectă a graficului\n",
    "train_and_plot(3)"
   ],
   "id": "42f30ed3f24d612c",
   "outputs": [
    {
     "name": "stdout",
     "output_type": "stream",
     "text": [
      "\n",
      "=== Polynomial Degree 3 ===\n",
      "MAE:  1.23\n",
      "MSE:  2.94\n",
      "RMSE: 1.71\n",
      "R²:   0.9995\n",
      "Coefficients: [ 0.00000000e+00 -3.81398155e+01  1.85092297e+00 -2.24771548e-02]\n",
      "Intercept: 251.96\n"
     ]
    },
    {
     "data": {
      "text/plain": [
       "<Figure size 1200x400 with 1 Axes>"
      ],
      "image/png": "[encoded data removed]"
     },
     "metadata": {},
     "output_type": "display_data"
    }
   ],
   "execution_count": 8
  },
  {
   "metadata": {},
   "cell_type": "markdown",
   "source": "Funcția de gradul 3 este o curbă. După antrenare aceasta este $f(x) = 251.96 - 38.1398155 * x + 1.85092297 * x ^ 2 - 0.0224771548 * x ^ 3$.",
   "id": "cecaa06dbd3add21"
  },
  {
   "metadata": {},
   "cell_type": "markdown",
   "source": "Din coeficienți, valoarea erorilor și grafice se poate observa că funcțiile de gradul 1, respectiv 2 sunt aproape identice pe intervalul ales. Pentru această problemă, regresia polinomială de gradul 3 este mai potrivită. Totuși, pe un interval mai larg se poate observa overfitting-ul acesteia.",
   "id": "c4cb40d90269527d"
  },
  {
   "metadata": {},
   "cell_type": "markdown",
   "source": "Pentru fiecare model de regresie polinomială creată și salvată în `models` generăm o predicție pentru 28&deg;C.",
   "id": "49317a3f35442e07"
  },
  {
   "metadata": {
    "ExecuteTime": {
     "end_time": "2025-10-24T18:07:08.269407Z",
     "start_time": "2025-10-24T18:07:08.265887Z"
    }
   },
   "cell_type": "code",
   "source": [
    "print(\"\\n=== Prediction for 28°C ===\")\n",
    "for degree in degrees:\n",
    "    poly, model = models[degree]\n",
    "    temp_28 = poly.transform([[28]])\n",
    "    pred_28 = model.predict(temp_28)[0]\n",
    "    print(f\"Degree {degree}: {pred_28:.2f} units\")"
   ],
   "id": "e1449e311ac8c390",
   "outputs": [
    {
     "name": "stdout",
     "output_type": "stream",
     "text": [
      "\n",
      "=== Prediction for 28°C ===\n",
      "Degree 1: 140.14 units\n",
      "Degree 2: 140.33 units\n",
      "Degree 3: 141.75 units\n"
     ]
    }
   ],
   "execution_count": 9
  },
  {
   "metadata": {},
   "cell_type": "markdown",
   "source": "## Regresie logistică",
   "id": "915838e20fe8fe64"
  },
  {
   "metadata": {},
   "cell_type": "markdown",
   "source": [
    "### Cerință\n",
    "\n",
    "Dorim să prezicem dacă un student va promova un examen în funcție de orele de studiu.\n",
    "\n",
    "Date:\n",
    "- Ore studiate: `[1, 1.5, 2, 2.5, 3, 3.5, 4, 4.5, 5, 5.5, 6, 6.5, 7, 7.5, 8, 8.5, 9, 9.5, 10]`\n",
    "- Promovat (1=Da, 0=Nu) : `[0, 0, 0, 0, 0, 1, 0, 1, 1, 1, 1, 1, 1, 1, 1, 1, 1, 1, 1]`\n",
    "\n",
    "Sarcini:\n",
    "1. Vizualizarea datelor\n",
    "2. Antrenarea modelelor de regresie logistică\n",
    "3. Trasarea curbei sigmoid\n",
    "4. Calcularea matricii de confuzie, acurateții, preciziei, recall-ului și scorului F1\n",
    "5. Predicție pentru un student care a studiat 4 ore\n",
    "6. Găsirea orelor de studiu necesare pentru 90% șanse de a promova"
   ],
   "id": "8dcf007909e7eb02"
  },
  {
   "metadata": {},
   "cell_type": "markdown",
   "source": "### Rezolvare",
   "id": "7b16b6c8e91d3255"
  },
  {
   "metadata": {},
   "cell_type": "markdown",
   "source": "Importăm bibliotecile necesare.",
   "id": "a5060894f5c6d761"
  },
  {
   "metadata": {
    "ExecuteTime": {
     "end_time": "2025-10-24T18:07:08.298278Z",
     "start_time": "2025-10-24T18:07:08.296098Z"
    }
   },
   "cell_type": "code",
   "source": [
    "import numpy as np\n",
    "import matplotlib.pyplot as plt\n",
    "from sklearn.linear_model import LogisticRegression  # algoritmul principal de regresie\n",
    "from sklearn.metrics import confusion_matrix, accuracy_score, precision_score, recall_score, f1_score  # metrici de evaluare\n",
    "import seaborn as sns  # aspect grafice"
   ],
   "id": "d4b0b3f48f393b38",
   "outputs": [],
   "execution_count": 10
  },
  {
   "metadata": {},
   "cell_type": "markdown",
   "source": "Definim datele cu care vom lucra (din enunțul problemei).",
   "id": "a510344c17034854"
  },
  {
   "metadata": {
    "ExecuteTime": {
     "end_time": "2025-10-24T18:07:08.319502Z",
     "start_time": "2025-10-24T18:07:08.317273Z"
    }
   },
   "cell_type": "code",
   "source": [
    "hours = np.array([1, 1.5, 2, 2.5, 3, 3.5, 4, 4.5, 5, 5.5, 6, 6.5, 7, 7.5, 8, 8.5, 9, 9.5, 10]).reshape(-1, 1)  # orele de studiu\n",
    "passed = np.array([0, 0, 0, 0, 0, 1, 0, 1, 1, 1, 1, 1, 1, 1, 1, 1, 1, 1, 1])  # promovat: 1 = da, 0 = nu"
   ],
   "id": "32d8e3c5964ad4ad",
   "outputs": [],
   "execution_count": 11
  },
  {
   "metadata": {},
   "cell_type": "markdown",
   "source": "Afișăm grafic datele problemei.",
   "id": "cdca4c3a8c2460f1"
  },
  {
   "metadata": {
    "ExecuteTime": {
     "end_time": "2025-10-24T18:07:08.382343Z",
     "start_time": "2025-10-24T18:07:08.330229Z"
    }
   },
   "cell_type": "code",
   "source": [
    "plt.figure(figsize=(14, 5))\n",
    "\n",
    "plt.subplot(1, 2, 1)\n",
    "plt.scatter(hours, passed, color='blue', s=100, alpha=0.6, edgecolors='black', linewidths=1.5)\n",
    "plt.xlabel('Hours Studied', fontsize=12)\n",
    "plt.ylabel('Passed (0=No, 1=Yes)', fontsize=12)\n",
    "plt.title('Student Exam Results', fontsize=14, fontweight='bold')\n",
    "plt.grid(True, alpha=0.3)\n",
    "plt.yticks([0, 1], ['Failed', 'Passed'])"
   ],
   "id": "7f9d32fa1455573b",
   "outputs": [
    {
     "data": {
      "text/plain": [
       "([<matplotlib.axis.YTick at 0x297bf6e7750>,\n",
       "  <matplotlib.axis.YTick at 0x297bf719450>],\n",
       " [Text(0, 0, 'Failed'), Text(0, 1, 'Passed')])"
      ]
     },
     "execution_count": 12,
     "metadata": {},
     "output_type": "execute_result"
    },
    {
     "data": {
      "text/plain": [
       "<Figure size 1400x500 with 1 Axes>"
      ],
      "image/png": "[encoded data removed]"
     },
     "metadata": {},
     "output_type": "display_data"
    }
   ],
   "execution_count": 12
  },
  {
   "metadata": {},
   "cell_type": "markdown",
   "source": "Creăm și antrenăm modelul.",
   "id": "1fcb051278f5cdac"
  },
  {
   "metadata": {
    "ExecuteTime": {
     "end_time": "2025-10-24T18:07:08.408238Z",
     "start_time": "2025-10-24T18:07:08.401951Z"
    }
   },
   "cell_type": "code",
   "source": [
    "model = LogisticRegression()\n",
    "model.fit(hours, passed)"
   ],
   "id": "3e25f396c4e84682",
   "outputs": [
    {
     "data": {
      "text/plain": [
       "LogisticRegression()"
      ],
      "text/html": [
       "<style>#sk-container-id-1 {\n",
       "  /* Definition of color scheme common for light and dark mode */\n",
       "  --sklearn-color-text: #000;\n",
       "  --sklearn-color-text-muted: #666;\n",
       "  --sklearn-color-line: gray;\n",
       "  /* Definition of color scheme for unfitted estimators */\n",
       "  --sklearn-color-unfitted-level-0: #fff5e6;\n",
       "  --sklearn-color-unfitted-level-1: #f6e4d2;\n",
       "  --sklearn-color-unfitted-level-2: #ffe0b3;\n",
       "  --sklearn-color-unfitted-level-3: chocolate;\n",
       "  /* Definition of color scheme for fitted estimators */\n",
       "  --sklearn-color-fitted-level-0: #f0f8ff;\n",
       "  --sklearn-color-fitted-level-1: #d4ebff;\n",
       "  --sklearn-color-fitted-level-2: #b3dbfd;\n",
       "  --sklearn-color-fitted-level-3: cornflowerblue;\n",
       "\n",
       "  /* Specific color for light theme */\n",
       "  --sklearn-color-text-on-default-background: var(--sg-text-color, var(--theme-code-foreground, var(--jp-content-font-color1, black)));\n",
       "  --sklearn-color-background: var(--sg-background-color, var(--theme-background, var(--jp-layout-color0, white)));\n",
       "  --sklearn-color-border-box: var(--sg-text-color, var(--theme-code-foreground, var(--jp-content-font-color1, black)));\n",
       "  --sklearn-color-icon: #696969;\n",
       "\n",
       "  @media (prefers-color-scheme: dark) {\n",
       "    /* Redefinition of color scheme for dark theme */\n",
       "    --sklearn-color-text-on-default-background: var(--sg-text-color, var(--theme-code-foreground, var(--jp-content-font-color1, white)));\n",
       "    --sklearn-color-background: var(--sg-background-color, var(--theme-background, var(--jp-layout-color0, #111)));\n",
       "    --sklearn-color-border-box: var(--sg-text-color, var(--theme-code-foreground, var(--jp-content-font-color1, white)));\n",
       "    --sklearn-color-icon: #878787;\n",
       "  }\n",
       "}\n",
       "\n",
       "#sk-container-id-1 {\n",
       "  color: var(--sklearn-color-text);\n",
       "}\n",
       "\n",
       "#sk-container-id-1 pre {\n",
       "  padding: 0;\n",
       "}\n",
       "\n",
       "#sk-container-id-1 input.sk-hidden--visually {\n",
       "  border: 0;\n",
       "  clip: rect(1px 1px 1px 1px);\n",
       "  clip: rect(1px, 1px, 1px, 1px);\n",
       "  height: 1px;\n",
       "  margin: -1px;\n",
       "  overflow: hidden;\n",
       "  padding: 0;\n",
       "  position: absolute;\n",
       "  width: 1px;\n",
       "}\n",
       "\n",
       "#sk-container-id-1 div.sk-dashed-wrapped {\n",
       "  border: 1px dashed var(--sklearn-color-line);\n",
       "  margin: 0 0.4em 0.5em 0.4em;\n",
       "  box-sizing: border-box;\n",
       "  padding-bottom: 0.4em;\n",
       "  background-color: var(--sklearn-color-background);\n",
       "}\n",
       "\n",
       "#sk-container-id-1 div.sk-container {\n",
       "  /* jupyter's `normalize.less` sets `[hidden] { display: none; }`\n",
       "     but bootstrap.min.css set `[hidden] { display: none !important; }`\n",
       "     so we also need the `!important` here to be able to override the\n",
       "     default hidden behavior on the sphinx rendered scikit-learn.org.\n",
       "     See: https://github.com/scikit-learn/scikit-learn/issues/21755 */\n",
       "  display: inline-block !important;\n",
       "  position: relative;\n",
       "}\n",
       "\n",
       "#sk-container-id-1 div.sk-text-repr-fallback {\n",
       "  display: none;\n",
       "}\n",
       "\n",
       "div.sk-parallel-item,\n",
       "div.sk-serial,\n",
       "div.sk-item {\n",
       "  /* draw centered vertical line to link estimators */\n",
       "  background-image: linear-gradient(var(--sklearn-color-text-on-default-background), var(--sklearn-color-text-on-default-background));\n",
       "  background-size: 2px 100%;\n",
       "  background-repeat: no-repeat;\n",
       "  background-position: center center;\n",
       "}\n",
       "\n",
       "/* Parallel-specific style estimator block */\n",
       "\n",
       "#sk-container-id-1 div.sk-parallel-item::after {\n",
       "  content: \"\";\n",
       "  width: 100%;\n",
       "  border-bottom: 2px solid var(--sklearn-color-text-on-default-background);\n",
       "  flex-grow: 1;\n",
       "}\n",
       "\n",
       "#sk-container-id-1 div.sk-parallel {\n",
       "  display: flex;\n",
       "  align-items: stretch;\n",
       "  justify-content: center;\n",
       "  background-color: var(--sklearn-color-background);\n",
       "  position: relative;\n",
       "}\n",
       "\n",
       "#sk-container-id-1 div.sk-parallel-item {\n",
       "  display: flex;\n",
       "  flex-direction: column;\n",
       "}\n",
       "\n",
       "#sk-container-id-1 div.sk-parallel-item:first-child::after {\n",
       "  align-self: flex-end;\n",
       "  width: 50%;\n",
       "}\n",
       "\n",
       "#sk-container-id-1 div.sk-parallel-item:last-child::after {\n",
       "  align-self: flex-start;\n",
       "  width: 50%;\n",
       "}\n",
       "\n",
       "#sk-container-id-1 div.sk-parallel-item:only-child::after {\n",
       "  width: 0;\n",
       "}\n",
       "\n",
       "/* Serial-specific style estimator block */\n",
       "\n",
       "#sk-container-id-1 div.sk-serial {\n",
       "  display: flex;\n",
       "  flex-direction: column;\n",
       "  align-items: center;\n",
       "  background-color: var(--sklearn-color-background);\n",
       "  padding-right: 1em;\n",
       "  padding-left: 1em;\n",
       "}\n",
       "\n",
       "\n",
       "/* Toggleable style: style used for estimator/Pipeline/ColumnTransformer box that is\n",
       "clickable and can be expanded/collapsed.\n",
       "- Pipeline and ColumnTransformer use this feature and define the default style\n",
       "- Estimators will overwrite some part of the style using the `sk-estimator` class\n",
       "*/\n",
       "\n",
       "/* Pipeline and ColumnTransformer style (default) */\n",
       "\n",
       "#sk-container-id-1 div.sk-toggleable {\n",
       "  /* Default theme specific background. It is overwritten whether we have a\n",
       "  specific estimator or a Pipeline/ColumnTransformer */\n",
       "  background-color: var(--sklearn-color-background);\n",
       "}\n",
       "\n",
       "/* Toggleable label */\n",
       "#sk-container-id-1 label.sk-toggleable__label {\n",
       "  cursor: pointer;\n",
       "  display: flex;\n",
       "  width: 100%;\n",
       "  margin-bottom: 0;\n",
       "  padding: 0.5em;\n",
       "  box-sizing: border-box;\n",
       "  text-align: center;\n",
       "  align-items: start;\n",
       "  justify-content: space-between;\n",
       "  gap: 0.5em;\n",
       "}\n",
       "\n",
       "#sk-container-id-1 label.sk-toggleable__label .caption {\n",
       "  font-size: 0.6rem;\n",
       "  font-weight: lighter;\n",
       "  color: var(--sklearn-color-text-muted);\n",
       "}\n",
       "\n",
       "#sk-container-id-1 label.sk-toggleable__label-arrow:before {\n",
       "  /* Arrow on the left of the label */\n",
       "  content: \"▸\";\n",
       "  float: left;\n",
       "  margin-right: 0.25em;\n",
       "  color: var(--sklearn-color-icon);\n",
       "}\n",
       "\n",
       "#sk-container-id-1 label.sk-toggleable__label-arrow:hover:before {\n",
       "  color: var(--sklearn-color-text);\n",
       "}\n",
       "\n",
       "/* Toggleable content - dropdown */\n",
       "\n",
       "#sk-container-id-1 div.sk-toggleable__content {\n",
       "  display: none;\n",
       "  text-align: left;\n",
       "  /* unfitted */\n",
       "  background-color: var(--sklearn-color-unfitted-level-0);\n",
       "}\n",
       "\n",
       "#sk-container-id-1 div.sk-toggleable__content.fitted {\n",
       "  /* fitted */\n",
       "  background-color: var(--sklearn-color-fitted-level-0);\n",
       "}\n",
       "\n",
       "#sk-container-id-1 div.sk-toggleable__content pre {\n",
       "  margin: 0.2em;\n",
       "  border-radius: 0.25em;\n",
       "  color: var(--sklearn-color-text);\n",
       "  /* unfitted */\n",
       "  background-color: var(--sklearn-color-unfitted-level-0);\n",
       "}\n",
       "\n",
       "#sk-container-id-1 div.sk-toggleable__content.fitted pre {\n",
       "  /* unfitted */\n",
       "  background-color: var(--sklearn-color-fitted-level-0);\n",
       "}\n",
       "\n",
       "#sk-container-id-1 input.sk-toggleable__control:checked~div.sk-toggleable__content {\n",
       "  /* Expand drop-down */\n",
       "  display: block;\n",
       "  width: 100%;\n",
       "  overflow: visible;\n",
       "}\n",
       "\n",
       "#sk-container-id-1 input.sk-toggleable__control:checked~label.sk-toggleable__label-arrow:before {\n",
       "  content: \"▾\";\n",
       "}\n",
       "\n",
       "/* Pipeline/ColumnTransformer-specific style */\n",
       "\n",
       "#sk-container-id-1 div.sk-label input.sk-toggleable__control:checked~label.sk-toggleable__label {\n",
       "  color: var(--sklearn-color-text);\n",
       "  background-color: var(--sklearn-color-unfitted-level-2);\n",
       "}\n",
       "\n",
       "#sk-container-id-1 div.sk-label.fitted input.sk-toggleable__control:checked~label.sk-toggleable__label {\n",
       "  background-color: var(--sklearn-color-fitted-level-2);\n",
       "}\n",
       "\n",
       "/* Estimator-specific style */\n",
       "\n",
       "/* Colorize estimator box */\n",
       "#sk-container-id-1 div.sk-estimator input.sk-toggleable__control:checked~label.sk-toggleable__label {\n",
       "  /* unfitted */\n",
       "  background-color: var(--sklearn-color-unfitted-level-2);\n",
       "}\n",
       "\n",
       "#sk-container-id-1 div.sk-estimator.fitted input.sk-toggleable__control:checked~label.sk-toggleable__label {\n",
       "  /* fitted */\n",
       "  background-color: var(--sklearn-color-fitted-level-2);\n",
       "}\n",
       "\n",
       "#sk-container-id-1 div.sk-label label.sk-toggleable__label,\n",
       "#sk-container-id-1 div.sk-label label {\n",
       "  /* The background is the default theme color */\n",
       "  color: var(--sklearn-color-text-on-default-background);\n",
       "}\n",
       "\n",
       "/* On hover, darken the color of the background */\n",
       "#sk-container-id-1 div.sk-label:hover label.sk-toggleable__label {\n",
       "  color: var(--sklearn-color-text);\n",
       "  background-color: var(--sklearn-color-unfitted-level-2);\n",
       "}\n",
       "\n",
       "/* Label box, darken color on hover, fitted */\n",
       "#sk-container-id-1 div.sk-label.fitted:hover label.sk-toggleable__label.fitted {\n",
       "  color: var(--sklearn-color-text);\n",
       "  background-color: var(--sklearn-color-fitted-level-2);\n",
       "}\n",
       "\n",
       "/* Estimator label */\n",
       "\n",
       "#sk-container-id-1 div.sk-label label {\n",
       "  font-family: monospace;\n",
       "  font-weight: bold;\n",
       "  display: inline-block;\n",
       "  line-height: 1.2em;\n",
       "}\n",
       "\n",
       "#sk-container-id-1 div.sk-label-container {\n",
       "  text-align: center;\n",
       "}\n",
       "\n",
       "/* Estimator-specific */\n",
       "#sk-container-id-1 div.sk-estimator {\n",
       "  font-family: monospace;\n",
       "  border: 1px dotted var(--sklearn-color-border-box);\n",
       "  border-radius: 0.25em;\n",
       "  box-sizing: border-box;\n",
       "  margin-bottom: 0.5em;\n",
       "  /* unfitted */\n",
       "  background-color: var(--sklearn-color-unfitted-level-0);\n",
       "}\n",
       "\n",
       "#sk-container-id-1 div.sk-estimator.fitted {\n",
       "  /* fitted */\n",
       "  background-color: var(--sklearn-color-fitted-level-0);\n",
       "}\n",
       "\n",
       "/* on hover */\n",
       "#sk-container-id-1 div.sk-estimator:hover {\n",
       "  /* unfitted */\n",
       "  background-color: var(--sklearn-color-unfitted-level-2);\n",
       "}\n",
       "\n",
       "#sk-container-id-1 div.sk-estimator.fitted:hover {\n",
       "  /* fitted */\n",
       "  background-color: var(--sklearn-color-fitted-level-2);\n",
       "}\n",
       "\n",
       "/* Specification for estimator info (e.g. \"i\" and \"?\") */\n",
       "\n",
       "/* Common style for \"i\" and \"?\" */\n",
       "\n",
       ".sk-estimator-doc-link,\n",
       "a:link.sk-estimator-doc-link,\n",
       "a:visited.sk-estimator-doc-link {\n",
       "  float: right;\n",
       "  font-size: smaller;\n",
       "  line-height: 1em;\n",
       "  font-family: monospace;\n",
       "  background-color: var(--sklearn-color-background);\n",
       "  border-radius: 1em;\n",
       "  height: 1em;\n",
       "  width: 1em;\n",
       "  text-decoration: none !important;\n",
       "  margin-left: 0.5em;\n",
       "  text-align: center;\n",
       "  /* unfitted */\n",
       "  border: var(--sklearn-color-unfitted-level-1) 1pt solid;\n",
       "  color: var(--sklearn-color-unfitted-level-1);\n",
       "}\n",
       "\n",
       ".sk-estimator-doc-link.fitted,\n",
       "a:link.sk-estimator-doc-link.fitted,\n",
       "a:visited.sk-estimator-doc-link.fitted {\n",
       "  /* fitted */\n",
       "  border: var(--sklearn-color-fitted-level-1) 1pt solid;\n",
       "  color: var(--sklearn-color-fitted-level-1);\n",
       "}\n",
       "\n",
       "/* On hover */\n",
       "div.sk-estimator:hover .sk-estimator-doc-link:hover,\n",
       ".sk-estimator-doc-link:hover,\n",
       "div.sk-label-container:hover .sk-estimator-doc-link:hover,\n",
       ".sk-estimator-doc-link:hover {\n",
       "  /* unfitted */\n",
       "  background-color: var(--sklearn-color-unfitted-level-3);\n",
       "  color: var(--sklearn-color-background);\n",
       "  text-decoration: none;\n",
       "}\n",
       "\n",
       "div.sk-estimator.fitted:hover .sk-estimator-doc-link.fitted:hover,\n",
       ".sk-estimator-doc-link.fitted:hover,\n",
       "div.sk-label-container:hover .sk-estimator-doc-link.fitted:hover,\n",
       ".sk-estimator-doc-link.fitted:hover {\n",
       "  /* fitted */\n",
       "  background-color: var(--sklearn-color-fitted-level-3);\n",
       "  color: var(--sklearn-color-background);\n",
       "  text-decoration: none;\n",
       "}\n",
       "\n",
       "/* Span, style for the box shown on hovering the info icon */\n",
       ".sk-estimator-doc-link span {\n",
       "  display: none;\n",
       "  z-index: 9999;\n",
       "  position: relative;\n",
       "  font-weight: normal;\n",
       "  right: .2ex;\n",
       "  padding: .5ex;\n",
       "  margin: .5ex;\n",
       "  width: min-content;\n",
       "  min-width: 20ex;\n",
       "  max-width: 50ex;\n",
       "  color: var(--sklearn-color-text);\n",
       "  box-shadow: 2pt 2pt 4pt #999;\n",
       "  /* unfitted */\n",
       "  background: var(--sklearn-color-unfitted-level-0);\n",
       "  border: .5pt solid var(--sklearn-color-unfitted-level-3);\n",
       "}\n",
       "\n",
       ".sk-estimator-doc-link.fitted span {\n",
       "  /* fitted */\n",
       "  background: var(--sklearn-color-fitted-level-0);\n",
       "  border: var(--sklearn-color-fitted-level-3);\n",
       "}\n",
       "\n",
       ".sk-estimator-doc-link:hover span {\n",
       "  display: block;\n",
       "}\n",
       "\n",
       "/* \"?\"-specific style due to the `<a>` HTML tag */\n",
       "\n",
       "#sk-container-id-1 a.estimator_doc_link {\n",
       "  float: right;\n",
       "  font-size: 1rem;\n",
       "  line-height: 1em;\n",
       "  font-family: monospace;\n",
       "  background-color: var(--sklearn-color-background);\n",
       "  border-radius: 1rem;\n",
       "  height: 1rem;\n",
       "  width: 1rem;\n",
       "  text-decoration: none;\n",
       "  /* unfitted */\n",
       "  color: var(--sklearn-color-unfitted-level-1);\n",
       "  border: var(--sklearn-color-unfitted-level-1) 1pt solid;\n",
       "}\n",
       "\n",
       "#sk-container-id-1 a.estimator_doc_link.fitted {\n",
       "  /* fitted */\n",
       "  border: var(--sklearn-color-fitted-level-1) 1pt solid;\n",
       "  color: var(--sklearn-color-fitted-level-1);\n",
       "}\n",
       "\n",
       "/* On hover */\n",
       "#sk-container-id-1 a.estimator_doc_link:hover {\n",
       "  /* unfitted */\n",
       "  background-color: var(--sklearn-color-unfitted-level-3);\n",
       "  color: var(--sklearn-color-background);\n",
       "  text-decoration: none;\n",
       "}\n",
       "\n",
       "#sk-container-id-1 a.estimator_doc_link.fitted:hover {\n",
       "  /* fitted */\n",
       "  background-color: var(--sklearn-color-fitted-level-3);\n",
       "}\n",
       "\n",
       ".estimator-table summary {\n",
       "    padding: .5rem;\n",
       "    font-family: monospace;\n",
       "    cursor: pointer;\n",
       "}\n",
       "\n",
       ".estimator-table details[open] {\n",
       "    padding-left: 0.1rem;\n",
       "    padding-right: 0.1rem;\n",
       "    padding-bottom: 0.3rem;\n",
       "}\n",
       "\n",
       ".estimator-table .parameters-table {\n",
       "    margin-left: auto !important;\n",
       "    margin-right: auto !important;\n",
       "}\n",
       "\n",
       ".estimator-table .parameters-table tr:nth-child(odd) {\n",
       "    background-color: #fff;\n",
       "}\n",
       "\n",
       ".estimator-table .parameters-table tr:nth-child(even) {\n",
       "    background-color: #f6f6f6;\n",
       "}\n",
       "\n",
       ".estimator-table .parameters-table tr:hover {\n",
       "    background-color: #e0e0e0;\n",
       "}\n",
       "\n",
       ".estimator-table table td {\n",
       "    border: 1px solid rgba(106, 105, 104, 0.232);\n",
       "}\n",
       "\n",
       ".user-set td {\n",
       "    color:rgb(255, 94, 0);\n",
       "    text-align: left;\n",
       "}\n",
       "\n",
       ".user-set td.value pre {\n",
       "    color:rgb(255, 94, 0) !important;\n",
       "    background-color: transparent !important;\n",
       "}\n",
       "\n",
       ".default td {\n",
       "    color: black;\n",
       "    text-align: left;\n",
       "}\n",
       "\n",
       ".user-set td i,\n",
       ".default td i {\n",
       "    color: black;\n",
       "}\n",
       "\n",
       ".copy-paste-icon {\n",
       "    background-image: url(data:image/svg+xml;base64,PHN2ZyB4bWxucz0iaHR0cDovL3d3dy53My5vcmcvMjAwMC9zdmciIHZpZXdCb3g9IjAgMCA0NDggNTEyIj48IS0tIUZvbnQgQXdlc29tZSBGcmVlIDYuNy4yIGJ5IEBmb250YXdlc29tZSAtIGh0dHBzOi8vZm9udGF3ZXNvbWUuY29tIExpY2Vuc2UgLSBodHRwczovL2ZvbnRhd2Vzb21lLmNvbS9saWNlbnNlL2ZyZWUgQ29weXJpZ2h0IDIwMjUgRm9udGljb25zLCBJbmMuLS0+PHBhdGggZD0iTTIwOCAwTDMzMi4xIDBjMTIuNyAwIDI0LjkgNS4xIDMzLjkgMTQuMWw2Ny45IDY3LjljOSA5IDE0LjEgMjEuMiAxNC4xIDMzLjlMNDQ4IDMzNmMwIDI2LjUtMjEuNSA0OC00OCA0OGwtMTkyIDBjLTI2LjUgMC00OC0yMS41LTQ4LTQ4bDAtMjg4YzAtMjYuNSAyMS41LTQ4IDQ4LTQ4ek00OCAxMjhsODAgMCAwIDY0LTY0IDAgMCAyNTYgMTkyIDAgMC0zMiA2NCAwIDAgNDhjMCAyNi41LTIxLjUgNDgtNDggNDhMNDggNTEyYy0yNi41IDAtNDgtMjEuNS00OC00OEwwIDE3NmMwLTI2LjUgMjEuNS00OCA0OC00OHoiLz48L3N2Zz4=);\n",
       "    background-repeat: no-repeat;\n",
       "    background-size: 14px 14px;\n",
       "    background-position: 0;\n",
       "    display: inline-block;\n",
       "    width: 14px;\n",
       "    height: 14px;\n",
       "    cursor: pointer;\n",
       "}\n",
       "</style><body><div id=\"sk-container-id-1\" class=\"sk-top-container\"><div class=\"sk-text-repr-fallback\"><pre>LogisticRegression()</pre><b>In a Jupyter environment, please rerun this cell to show the HTML representation or trust the notebook. <br />On GitHub, the HTML representation is unable to render, please try loading this page with nbviewer.org.</b></div><div class=\"sk-container\" hidden><div class=\"sk-item\"><div class=\"sk-estimator fitted sk-toggleable\"><input class=\"sk-toggleable__control sk-hidden--visually\" id=\"sk-estimator-id-1\" type=\"checkbox\" checked><label for=\"sk-estimator-id-1\" class=\"sk-toggleable__label fitted sk-toggleable__label-arrow\"><div><div>LogisticRegression</div></div><div><a class=\"sk-estimator-doc-link fitted\" rel=\"noreferrer\" target=\"_blank\" href=\"https://scikit-learn.org/1.7/modules/generated/sklearn.linear_model.LogisticRegression.html\">?<span>Documentation for LogisticRegression</span></a><span class=\"sk-estimator-doc-link fitted\">i<span>Fitted</span></span></div></label><div class=\"sk-toggleable__content fitted\" data-param-prefix=\"\">\n",
       "        <div class=\"estimator-table\">\n",
       "            <details>\n",
       "                <summary>Parameters</summary>\n",
       "                <table class=\"parameters-table\">\n",
       "                  <tbody>\n",
       "                    \n",
       "        <tr class=\"default\">\n",
       "            <td><i class=\"copy-paste-icon\"\n",
       "                 onclick=\"copyToClipboard('penalty',\n",
       "                          this.parentElement.nextElementSibling)\"\n",
       "            ></i></td>\n",
       "            <td class=\"param\">penalty&nbsp;</td>\n",
       "            <td class=\"value\">&#x27;l2&#x27;</td>\n",
       "        </tr>\n",
       "    \n",
       "\n",
       "        <tr class=\"default\">\n",
       "            <td><i class=\"copy-paste-icon\"\n",
       "                 onclick=\"copyToClipboard('dual',\n",
       "                          this.parentElement.nextElementSibling)\"\n",
       "            ></i></td>\n",
       "            <td class=\"param\">dual&nbsp;</td>\n",
       "            <td class=\"value\">False</td>\n",
       "        </tr>\n",
       "    \n",
       "\n",
       "        <tr class=\"default\">\n",
       "            <td><i class=\"copy-paste-icon\"\n",
       "                 onclick=\"copyToClipboard('tol',\n",
       "                          this.parentElement.nextElementSibling)\"\n",
       "            ></i></td>\n",
       "            <td class=\"param\">tol&nbsp;</td>\n",
       "            <td class=\"value\">0.0001</td>\n",
       "        </tr>\n",
       "    \n",
       "\n",
       "        <tr class=\"default\">\n",
       "            <td><i class=\"copy-paste-icon\"\n",
       "                 onclick=\"copyToClipboard('C',\n",
       "                          this.parentElement.nextElementSibling)\"\n",
       "            ></i></td>\n",
       "            <td class=\"param\">C&nbsp;</td>\n",
       "            <td class=\"value\">1.0</td>\n",
       "        </tr>\n",
       "    \n",
       "\n",
       "        <tr class=\"default\">\n",
       "            <td><i class=\"copy-paste-icon\"\n",
       "                 onclick=\"copyToClipboard('fit_intercept',\n",
       "                          this.parentElement.nextElementSibling)\"\n",
       "            ></i></td>\n",
       "            <td class=\"param\">fit_intercept&nbsp;</td>\n",
       "            <td class=\"value\">True</td>\n",
       "        </tr>\n",
       "    \n",
       "\n",
       "        <tr class=\"default\">\n",
       "            <td><i class=\"copy-paste-icon\"\n",
       "                 onclick=\"copyToClipboard('intercept_scaling',\n",
       "                          this.parentElement.nextElementSibling)\"\n",
       "            ></i></td>\n",
       "            <td class=\"param\">intercept_scaling&nbsp;</td>\n",
       "            <td class=\"value\">1</td>\n",
       "        </tr>\n",
       "    \n",
       "\n",
       "        <tr class=\"default\">\n",
       "            <td><i class=\"copy-paste-icon\"\n",
       "                 onclick=\"copyToClipboard('class_weight',\n",
       "                          this.parentElement.nextElementSibling)\"\n",
       "            ></i></td>\n",
       "            <td class=\"param\">class_weight&nbsp;</td>\n",
       "            <td class=\"value\">None</td>\n",
       "        </tr>\n",
       "    \n",
       "\n",
       "        <tr class=\"default\">\n",
       "            <td><i class=\"copy-paste-icon\"\n",
       "                 onclick=\"copyToClipboard('random_state',\n",
       "                          this.parentElement.nextElementSibling)\"\n",
       "            ></i></td>\n",
       "            <td class=\"param\">random_state&nbsp;</td>\n",
       "            <td class=\"value\">None</td>\n",
       "        </tr>\n",
       "    \n",
       "\n",
       "        <tr class=\"default\">\n",
       "            <td><i class=\"copy-paste-icon\"\n",
       "                 onclick=\"copyToClipboard('solver',\n",
       "                          this.parentElement.nextElementSibling)\"\n",
       "            ></i></td>\n",
       "            <td class=\"param\">solver&nbsp;</td>\n",
       "            <td class=\"value\">&#x27;lbfgs&#x27;</td>\n",
       "        </tr>\n",
       "    \n",
       "\n",
       "        <tr class=\"default\">\n",
       "            <td><i class=\"copy-paste-icon\"\n",
       "                 onclick=\"copyToClipboard('max_iter',\n",
       "                          this.parentElement.nextElementSibling)\"\n",
       "            ></i></td>\n",
       "            <td class=\"param\">max_iter&nbsp;</td>\n",
       "            <td class=\"value\">100</td>\n",
       "        </tr>\n",
       "    \n",
       "\n",
       "        <tr class=\"default\">\n",
       "            <td><i class=\"copy-paste-icon\"\n",
       "                 onclick=\"copyToClipboard('multi_class',\n",
       "                          this.parentElement.nextElementSibling)\"\n",
       "            ></i></td>\n",
       "            <td class=\"param\">multi_class&nbsp;</td>\n",
       "            <td class=\"value\">&#x27;deprecated&#x27;</td>\n",
       "        </tr>\n",
       "    \n",
       "\n",
       "        <tr class=\"default\">\n",
       "            <td><i class=\"copy-paste-icon\"\n",
       "                 onclick=\"copyToClipboard('verbose',\n",
       "                          this.parentElement.nextElementSibling)\"\n",
       "            ></i></td>\n",
       "            <td class=\"param\">verbose&nbsp;</td>\n",
       "            <td class=\"value\">0</td>\n",
       "        </tr>\n",
       "    \n",
       "\n",
       "        <tr class=\"default\">\n",
       "            <td><i class=\"copy-paste-icon\"\n",
       "                 onclick=\"copyToClipboard('warm_start',\n",
       "                          this.parentElement.nextElementSibling)\"\n",
       "            ></i></td>\n",
       "            <td class=\"param\">warm_start&nbsp;</td>\n",
       "            <td class=\"value\">False</td>\n",
       "        </tr>\n",
       "    \n",
       "\n",
       "        <tr class=\"default\">\n",
       "            <td><i class=\"copy-paste-icon\"\n",
       "                 onclick=\"copyToClipboard('n_jobs',\n",
       "                          this.parentElement.nextElementSibling)\"\n",
       "            ></i></td>\n",
       "            <td class=\"param\">n_jobs&nbsp;</td>\n",
       "            <td class=\"value\">None</td>\n",
       "        </tr>\n",
       "    \n",
       "\n",
       "        <tr class=\"default\">\n",
       "            <td><i class=\"copy-paste-icon\"\n",
       "                 onclick=\"copyToClipboard('l1_ratio',\n",
       "                          this.parentElement.nextElementSibling)\"\n",
       "            ></i></td>\n",
       "            <td class=\"param\">l1_ratio&nbsp;</td>\n",
       "            <td class=\"value\">None</td>\n",
       "        </tr>\n",
       "    \n",
       "                  </tbody>\n",
       "                </table>\n",
       "            </details>\n",
       "        </div>\n",
       "    </div></div></div></div></div><script>function copyToClipboard(text, element) {\n",
       "    // Get the parameter prefix from the closest toggleable content\n",
       "    const toggleableContent = element.closest('.sk-toggleable__content');\n",
       "    const paramPrefix = toggleableContent ? toggleableContent.dataset.paramPrefix : '';\n",
       "    const fullParamName = paramPrefix ? `${paramPrefix}${text}` : text;\n",
       "\n",
       "    const originalStyle = element.style;\n",
       "    const computedStyle = window.getComputedStyle(element);\n",
       "    const originalWidth = computedStyle.width;\n",
       "    const originalHTML = element.innerHTML.replace('Copied!', '');\n",
       "\n",
       "    navigator.clipboard.writeText(fullParamName)\n",
       "        .then(() => {\n",
       "            element.style.width = originalWidth;\n",
       "            element.style.color = 'green';\n",
       "            element.innerHTML = \"Copied!\";\n",
       "\n",
       "            setTimeout(() => {\n",
       "                element.innerHTML = originalHTML;\n",
       "                element.style = originalStyle;\n",
       "            }, 2000);\n",
       "        })\n",
       "        .catch(err => {\n",
       "            console.error('Failed to copy:', err);\n",
       "            element.style.color = 'red';\n",
       "            element.innerHTML = \"Failed!\";\n",
       "            setTimeout(() => {\n",
       "                element.innerHTML = originalHTML;\n",
       "                element.style = originalStyle;\n",
       "            }, 2000);\n",
       "        });\n",
       "    return false;\n",
       "}\n",
       "\n",
       "document.querySelectorAll('.fa-regular.fa-copy').forEach(function(element) {\n",
       "    const toggleableContent = element.closest('.sk-toggleable__content');\n",
       "    const paramPrefix = toggleableContent ? toggleableContent.dataset.paramPrefix : '';\n",
       "    const paramName = element.parentElement.nextElementSibling.textContent.trim();\n",
       "    const fullParamName = paramPrefix ? `${paramPrefix}${paramName}` : paramName;\n",
       "\n",
       "    element.setAttribute('title', fullParamName);\n",
       "});\n",
       "</script></body>"
      ]
     },
     "execution_count": 13,
     "metadata": {},
     "output_type": "execute_result"
    }
   ],
   "execution_count": 13
  },
  {
   "metadata": {},
   "cell_type": "markdown",
   "source": "Afișăm formula rezultată după antrenare și coeficienții acesteia.",
   "id": "1b2cc0cfee71de64"
  },
  {
   "metadata": {
    "ExecuteTime": {
     "end_time": "2025-10-24T18:07:08.421983Z",
     "start_time": "2025-10-24T18:07:08.419123Z"
    }
   },
   "cell_type": "code",
   "source": [
    "b0 = model.intercept_[0]\n",
    "b1 = model.coef_[0][0]\n",
    "print(f\"Model Coefficients:\")\n",
    "print(f\"  Intercept (b0): {b0:.4f}\")\n",
    "print(f\"  Coefficient (b1): {b1:.4f}\")\n",
    "print(f\"\\nModel equation: P(pass) = 1 / (1 + e^(-({b0:.4f} + {b1:.4f} * hours)))\")"
   ],
   "id": "d680efe872023dce",
   "outputs": [
    {
     "name": "stdout",
     "output_type": "stream",
     "text": [
      "Model Coefficients:\n",
      "  Intercept (b0): -4.9077\n",
      "  Coefficient (b1): 1.3138\n",
      "\n",
      "Model equation: P(pass) = 1 / (1 + e^(-(-4.9077 + 1.3138 * hours)))\n"
     ]
    }
   ],
   "execution_count": 14
  },
  {
   "metadata": {},
   "cell_type": "markdown",
   "source": "Generăm predicțiile și afișăm graficul funcției.",
   "id": "ae4259ed1fa4e140"
  },
  {
   "metadata": {
    "ExecuteTime": {
     "end_time": "2025-10-24T18:07:08.512833Z",
     "start_time": "2025-10-24T18:07:08.434218Z"
    }
   },
   "cell_type": "code",
   "source": [
    "plt.figure(figsize=(14, 5))\n",
    "\n",
    "hours_range = np.linspace(0, 11, 300).reshape(-1, 1)\n",
    "probabilities = model.predict_proba(hours_range)[:, 1]\n",
    "\n",
    "y_pred = model.predict(hours)\n",
    "\n",
    "plt.subplot(1, 2, 2)\n",
    "plt.scatter(hours, passed, color='blue', s=100, alpha=0.6, label='Actual',\n",
    "            edgecolors='black', linewidths=1.5, zorder=3)\n",
    "plt.plot(hours_range, probabilities, color='red', linewidth=3, label='Sigmoid curve', zorder=2)\n",
    "plt.axhline(y=0.5, color='green', linestyle='--', linewidth=2, label='Decision boundary (0.5)', zorder=1)\n",
    "plt.xlabel('Hours Studied', fontsize=12)\n",
    "plt.ylabel('Probability of Passing', fontsize=12)\n",
    "plt.title('Logistic Regression Model', fontsize=14, fontweight='bold')\n",
    "plt.legend(fontsize=10)\n",
    "plt.grid(True, alpha=0.3)\n",
    "\n",
    "plt.tight_layout()\n",
    "plt.show()"
   ],
   "id": "a28760d3e0b027d2",
   "outputs": [
    {
     "data": {
      "text/plain": [
       "<Figure size 1400x500 with 1 Axes>"
      ],
      "image/png": "[encoded data removed]"
     },
     "metadata": {},
     "output_type": "display_data"
    }
   ],
   "execution_count": 15
  },
  {
   "metadata": {},
   "cell_type": "markdown",
   "source": "Generăm matricea de confuzie și o afișăm.",
   "id": "c7a70e6b8fb98c13"
  },
  {
   "metadata": {
    "ExecuteTime": {
     "end_time": "2025-10-24T18:07:08.597554Z",
     "start_time": "2025-10-24T18:07:08.527837Z"
    }
   },
   "cell_type": "code",
   "source": [
    "cm = confusion_matrix(passed, y_pred)\n",
    "tn, fp, fn, tp = cm.ravel()\n",
    "\n",
    "print(f\"\\n{'=' * 50}\")\n",
    "print(\"CONFUSION MATRIX\")\n",
    "print(f\"{'=' * 50}\")\n",
    "print(f\"\\n                Predicted\")\n",
    "print(f\"              Fail (0)  Pass (1)\")\n",
    "print(f\"Actual Fail    {tn:4d}      {fp:4d}\")\n",
    "print(f\"Actual Pass    {fn:4d}      {tp:4d}\")\n",
    "\n",
    "plt.figure(figsize=(6, 5))\n",
    "sns.heatmap(cm, annot=True, fmt='d', cmap='Blues', cbar=True,\n",
    "            xticklabels=['Predicted Fail', 'Predicted Pass'],\n",
    "            yticklabels=['Actual Fail', 'Actual Pass'],\n",
    "            annot_kws={\"size\": 16})\n",
    "plt.title('Confusion Matrix', fontsize=14, fontweight='bold')\n",
    "plt.ylabel('Actual Class', fontsize=12)\n",
    "plt.xlabel('Predicted Class', fontsize=12)\n",
    "plt.tight_layout()\n",
    "plt.show()"
   ],
   "id": "88adc73718844d70",
   "outputs": [
    {
     "name": "stdout",
     "output_type": "stream",
     "text": [
      "\n",
      "==================================================\n",
      "CONFUSION MATRIX\n",
      "==================================================\n",
      "\n",
      "                Predicted\n",
      "              Fail (0)  Pass (1)\n",
      "Actual Fail       5         1\n",
      "Actual Pass       1        12\n"
     ]
    },
    {
     "data": {
      "text/plain": [
       "<Figure size 600x500 with 2 Axes>"
      ],
      "image/png": "[encoded data removed]"
     },
     "metadata": {},
     "output_type": "display_data"
    }
   ],
   "execution_count": 16
  },
  {
   "metadata": {},
   "cell_type": "markdown",
   "source": "Calculăm metricile de evaluare și le afișăm.",
   "id": "6c00d15b955a6e76"
  },
  {
   "metadata": {
    "ExecuteTime": {
     "end_time": "2025-10-24T18:07:08.630068Z",
     "start_time": "2025-10-24T18:07:08.622347Z"
    }
   },
   "cell_type": "code",
   "source": [
    "accuracy = accuracy_score(passed, y_pred)\n",
    "precision = precision_score(passed, y_pred)\n",
    "recall = recall_score(passed, y_pred)\n",
    "f1 = f1_score(passed, y_pred)\n",
    "\n",
    "print(f\"{'=' * 50}\")\n",
    "print(\"PERFORMANCE METRICS\")\n",
    "print(f\"{'=' * 50}\")\n",
    "print(f\"True Positives (TP):   {tp}\")\n",
    "print(f\"True Negatives (TN):   {tn}\")\n",
    "print(f\"False Positives (FP):  {fp}\")\n",
    "print(f\"False Negatives (FN):  {fn}\")\n",
    "print(f\"\\nAccuracy:  {accuracy:.4f} ({accuracy * 100:.2f}%)\")\n",
    "print(f\"Precision: {precision:.4f} ({precision * 100:.2f}%)\")\n",
    "print(f\"Recall:    {recall:.4f} ({recall * 100:.2f}%)\")\n",
    "print(f\"F1-Score:  {f1:.4f}\")"
   ],
   "id": "1fc77000bab114b",
   "outputs": [
    {
     "name": "stdout",
     "output_type": "stream",
     "text": [
      "==================================================\n",
      "PERFORMANCE METRICS\n",
      "==================================================\n",
      "True Positives (TP):   12\n",
      "True Negatives (TN):   5\n",
      "False Positives (FP):  1\n",
      "False Negatives (FN):  1\n",
      "\n",
      "Accuracy:  0.8947 (89.47%)\n",
      "Precision: 0.9231 (92.31%)\n",
      "Recall:    0.9231 (92.31%)\n",
      "F1-Score:  0.9231\n"
     ]
    }
   ],
   "execution_count": 17
  },
  {
   "metadata": {},
   "cell_type": "markdown",
   "source": "Prezentăm interpretarea metricilor.",
   "id": "5495efbe3ffe2c42"
  },
  {
   "metadata": {
    "ExecuteTime": {
     "end_time": "2025-10-24T18:07:08.648037Z",
     "start_time": "2025-10-24T18:07:08.645484Z"
    }
   },
   "cell_type": "code",
   "source": [
    "print(f\"{'=' * 50}\")\n",
    "print(\"INTERPRETATION\")\n",
    "print(f\"{'=' * 50}\")\n",
    "print(f\"Accuracy:  {accuracy * 100:.2f}% of all predictions are correct\")\n",
    "print(f\"Precision: {precision * 100:.2f}% of predicted passes are actual passes\")\n",
    "print(f\"Recall:    {recall * 100:.2f}% of actual passes were correctly identified\")\n",
    "print(f\"F1-Score:  {f1:.4f} (harmonic mean of precision and recall)\")"
   ],
   "id": "dbf95e1be0a6e26c",
   "outputs": [
    {
     "name": "stdout",
     "output_type": "stream",
     "text": [
      "==================================================\n",
      "INTERPRETATION\n",
      "==================================================\n",
      "Accuracy:  89.47% of all predictions are correct\n",
      "Precision: 92.31% of predicted passes are actual passes\n",
      "Recall:    92.31% of actual passes were correctly identified\n",
      "F1-Score:  0.9231 (harmonic mean of precision and recall)\n"
     ]
    }
   ],
   "execution_count": 18
  },
  {
   "metadata": {},
   "cell_type": "markdown",
   "source": "Calculăm predicția pentru 4 ore de studiu.",
   "id": "c9143b41d694747"
  },
  {
   "metadata": {
    "ExecuteTime": {
     "end_time": "2025-10-24T18:07:08.661747Z",
     "start_time": "2025-10-24T18:07:08.659234Z"
    }
   },
   "cell_type": "code",
   "source": [
    "hours_4 = np.array([[4]])\n",
    "prob_4 = model.predict_proba(hours_4)[0, 1]\n",
    "pred_4 = model.predict(hours_4)[0]\n",
    "\n",
    "print(f\"{'=' * 50}\")\n",
    "print(\"PREDICTION FOR 4 HOURS OF STUDY\")\n",
    "print(f\"{'=' * 50}\")\n",
    "print(f\"Probability of passing: {prob_4:.4f} ({prob_4 * 100:.2f}%)\")\n",
    "print(f\"Prediction: {'PASS' if pred_4 == 1 else 'FAIL'}\")"
   ],
   "id": "91206805ccc7509d",
   "outputs": [
    {
     "name": "stdout",
     "output_type": "stream",
     "text": [
      "==================================================\n",
      "PREDICTION FOR 4 HOURS OF STUDY\n",
      "==================================================\n",
      "Probability of passing: 0.5860 (58.60%)\n",
      "Prediction: PASS\n"
     ]
    }
   ],
   "execution_count": 19
  },
  {
   "metadata": {},
   "cell_type": "markdown",
   "source": "Calculăm orele de studiu necesare pentru o șansă de 90% de a promova.",
   "id": "76fabc146211307"
  },
  {
   "metadata": {
    "ExecuteTime": {
     "end_time": "2025-10-24T18:07:08.676375Z",
     "start_time": "2025-10-24T18:07:08.673728Z"
    }
   },
   "cell_type": "code",
   "source": [
    "hours_90 = (np.log(0.9 / 0.1) - b0) / b1\n",
    "prob_90_check = model.predict_proba([[hours_90]])[0, 1]\n",
    "\n",
    "print(f\"{'=' * 50}\")\n",
    "print(\"HOURS NEEDED FOR 90% PASS PROBABILITY\")\n",
    "print(f\"{'=' * 50}\")\n",
    "print(f\"Hours needed: {hours_90:.2f}\")\n",
    "print(f\"Verification: {prob_90_check:.4f} ({prob_90_check * 100:.2f}%)\")"
   ],
   "id": "9bc18a3c433a672f",
   "outputs": [
    {
     "name": "stdout",
     "output_type": "stream",
     "text": [
      "==================================================\n",
      "HOURS NEEDED FOR 90% PASS PROBABILITY\n",
      "==================================================\n",
      "Hours needed: 5.41\n",
      "Verification: 0.9000 (90.00%)\n"
     ]
    }
   ],
   "execution_count": 20
  },
  {
   "metadata": {},
   "cell_type": "markdown",
   "source": "Calculăm și afișăm probabilitățile de promovare pentru diferite ore de studiu.",
   "id": "38864bb49589f9eb"
  },
  {
   "metadata": {
    "ExecuteTime": {
     "end_time": "2025-10-24T18:07:08.691015Z",
     "start_time": "2025-10-24T18:07:08.688091Z"
    }
   },
   "cell_type": "code",
   "source": [
    "print(f\"{'=' * 50}\")\n",
    "print(\"PASS PROBABILITIES FOR DIFFERENT STUDY HOURS\")\n",
    "print(f\"{'=' * 50}\")\n",
    "for h in [2, 4, 6, 8]:\n",
    "    prob = model.predict_proba([[h]])[0, 1]\n",
    "    print(f\"{h} hours: {prob:.4f} ({prob * 100:.2f}%)\")"
   ],
   "id": "73f0be1b572e7aed",
   "outputs": [
    {
     "name": "stdout",
     "output_type": "stream",
     "text": [
      "==================================================\n",
      "PASS PROBABILITIES FOR DIFFERENT STUDY HOURS\n",
      "==================================================\n",
      "2 hours: 0.0928 (9.28%)\n",
      "4 hours: 0.5860 (58.60%)\n",
      "6 hours: 0.9514 (95.14%)\n",
      "8 hours: 0.9963 (99.63%)\n"
     ]
    }
   ],
   "execution_count": 21
  },
  {
   "metadata": {},
   "cell_type": "markdown",
   "source": "## Clasificator Naive Bayes",
   "id": "9f657786780ca972"
  },
  {
   "metadata": {},
   "cell_type": "markdown",
   "source": [
    "### Cerință\n",
    "\n",
    "Prezicerea posibilității practicării sporturilor în funcție de vreme (din curs).\n",
    "\n",
    "Date:\n",
    "|Nr| Vreme | Temperatură | Umiditate | Vânt | Joc |\n",
    "|--|---------|------------|----------|------|------|\n",
    "|1| Soare | Mare | Mare | Absent | Nu |\n",
    "|2| Soare | Mare | Mare | Prezent | Nu |\n",
    "|3| înnorat | Mare | Mare | Absent | Da |\n",
    "|4| Ploaie | Medie | Mare | Absent | Da |\n",
    "|5| Ploaie | Mica | Normal | Absent | Da |\n",
    "|6| Ploaie | Mica | Normal | Prezent | Nu |\n",
    "|7| înnorat | Mica | Normal | Prezent | Da |\n",
    "|8| Soare | Medie | Mare | Absent | Nu |\n",
    "|9| Soare | Mica | Normal | Absent | Da |\n",
    "|10| Ploaie | Medie | Normal | Absent | Da |\n",
    "|11| Soare | Medie | Normal | Prezent | Da |\n",
    "|12| înnorat | Medie | Mare | Prezent | Da |\n",
    "|13| înnorat | Mare | Normal | Absent | Da |\n",
    "|14| Ploaie | Medie | Mare | Prezent | Nu |\n",
    "\n",
    "Predicție nouă: Vreme=Soare, Temperatură=Mare, Umiditate=Normală, Vânt=Absent\n",
    "\n",
    "Sarcini:\n",
    "1. Calculare prior posibility P(Play=Yes) și P(Play=No)\n",
    "2. Calculare probabilități condiționale pentru fiecare atribut\n",
    "3. Aplicare formulă Naive Bayes\n",
    "4. Caculare predicții și afișare probabilități\n",
    "5. Calculare matrice de confuzie și toate metricile folosind datele de antrenament\n",
    "6. Discuție Laplace smoothing"
   ],
   "id": "962ade3b7c8758d8"
  },
  {
   "metadata": {},
   "cell_type": "markdown",
   "source": "### Rezolvare",
   "id": "f426697350fdb7fd"
  },
  {
   "metadata": {},
   "cell_type": "markdown",
   "source": "Importăm bibliotecile necesare.",
   "id": "38caa1525e698088"
  },
  {
   "metadata": {
    "ExecuteTime": {
     "end_time": "2025-10-24T18:07:08.711466Z",
     "start_time": "2025-10-24T18:07:08.707273Z"
    }
   },
   "cell_type": "code",
   "source": [
    "import numpy as np\n",
    "import pandas as pd # pentru tabele de date (dataframes)\n",
    "from sklearn.naive_bayes import CategoricalNB # algoritmul de clasificare bazat pe formula Naive Bayes\n",
    "from sklearn.preprocessing import LabelEncoder # pentru transformarea datelor din forma de cuvinte în valori numerice\n",
    "from sklearn.metrics import confusion_matrix, accuracy_score, precision_score, recall_score, f1_score\n",
    "import matplotlib.pyplot as plt\n",
    "import seaborn as sns"
   ],
   "id": "590cda84bf992620",
   "outputs": [],
   "execution_count": 22
  },
  {
   "metadata": {},
   "cell_type": "markdown",
   "source": "Definim datele problemei.",
   "id": "e9bcb078515f8666"
  },
  {
   "metadata": {
    "ExecuteTime": {
     "end_time": "2025-10-24T18:07:08.724250Z",
     "start_time": "2025-10-24T18:07:08.721669Z"
    }
   },
   "cell_type": "code",
   "source": [
    "data = {\n",
    "    'Weather': ['Sunny', 'Sunny', 'Cloudy', 'Rain', 'Rain', 'Rain', 'Cloudy',\n",
    "                'Sunny', 'Sunny', 'Rain', 'Sunny', 'Cloudy', 'Cloudy', 'Rain'],\n",
    "    'Temperature': ['High', 'High', 'High', 'Medium', 'Low', 'Low', 'Low',\n",
    "                    'Medium', 'Low', 'Medium', 'Medium', 'Medium', 'High', 'Medium'],\n",
    "    'Humidity': ['High', 'High', 'High', 'High', 'Normal', 'Normal', 'Normal',\n",
    "                 'High', 'Normal', 'Normal', 'Normal', 'High', 'Normal', 'High'],\n",
    "    'Wind': ['No', 'Yes', 'No', 'No', 'No', 'Yes', 'Yes',\n",
    "             'No', 'No', 'No', 'Yes', 'Yes', 'No', 'Yes'],\n",
    "    'Play': ['No', 'No', 'Yes', 'Yes', 'Yes', 'No', 'Yes',\n",
    "             'No', 'Yes', 'Yes', 'Yes', 'Yes', 'Yes', 'No']\n",
    "}"
   ],
   "id": "fc9c093b519e98a7",
   "outputs": [],
   "execution_count": 23
  },
  {
   "metadata": {},
   "cell_type": "markdown",
   "source": "Creăm un dataframe cu setul de date și îl afișăm împreună cu totalul.",
   "id": "ce32f0cf1b3a662a"
  },
  {
   "metadata": {
    "ExecuteTime": {
     "end_time": "2025-10-24T18:07:08.741108Z",
     "start_time": "2025-10-24T18:07:08.736820Z"
    }
   },
   "cell_type": "code",
   "source": [
    "df = pd.DataFrame(data)\n",
    "print(\"=\" * 60)\n",
    "print(\"DATASET\")\n",
    "print(\"=\" * 60)\n",
    "print(df.to_string(index=False))\n",
    "print(f\"\\nTotal instances: {len(df)}\")"
   ],
   "id": "3497d801297789cd",
   "outputs": [
    {
     "name": "stdout",
     "output_type": "stream",
     "text": [
      "============================================================\n",
      "DATASET\n",
      "============================================================\n",
      "Weather Temperature Humidity Wind Play\n",
      "  Sunny        High     High   No   No\n",
      "  Sunny        High     High  Yes   No\n",
      " Cloudy        High     High   No  Yes\n",
      "   Rain      Medium     High   No  Yes\n",
      "   Rain         Low   Normal   No  Yes\n",
      "   Rain         Low   Normal  Yes   No\n",
      " Cloudy         Low   Normal  Yes  Yes\n",
      "  Sunny      Medium     High   No   No\n",
      "  Sunny         Low   Normal   No  Yes\n",
      "   Rain      Medium   Normal   No  Yes\n",
      "  Sunny      Medium   Normal  Yes  Yes\n",
      " Cloudy      Medium     High  Yes  Yes\n",
      " Cloudy        High   Normal   No  Yes\n",
      "   Rain      Medium     High  Yes   No\n",
      "\n",
      "Total instances: 14\n"
     ]
    }
   ],
   "execution_count": 24
  },
  {
   "metadata": {},
   "cell_type": "markdown",
   "source": "Numărăm câte instanțe se regăsesc în fiecare clasă (Yes or No play).",
   "id": "99704b3ff923cddd"
  },
  {
   "metadata": {
    "ExecuteTime": {
     "end_time": "2025-10-24T18:07:08.769561Z",
     "start_time": "2025-10-24T18:07:08.764993Z"
    }
   },
   "cell_type": "code",
   "source": [
    "print(f\"{'=' * 60}\")\n",
    "print(\"MANUAL CALCULATION\")\n",
    "print(f\"{'=' * 60}\")\n",
    "\n",
    "play_yes = df[df['Play'] == 'Yes']\n",
    "play_no = df[df['Play'] == 'No']\n",
    "total = len(df)\n",
    "\n",
    "print(f\"Class distribution:\")\n",
    "print(f\"  Play = Yes: {len(play_yes)} instances\")\n",
    "print(f\"  Play = No:  {len(play_no)} instances\")"
   ],
   "id": "6d29c5a9fc537c0a",
   "outputs": [
    {
     "name": "stdout",
     "output_type": "stream",
     "text": [
      "============================================================\n",
      "MANUAL CALCULATION\n",
      "============================================================\n",
      "Class distribution:\n",
      "  Play = Yes: 9 instances\n",
      "  Play = No:  5 instances\n"
     ]
    }
   ],
   "execution_count": 25
  },
  {
   "metadata": {},
   "cell_type": "markdown",
   "source": "Calculăm probabilitatea fiecărui rezultat.",
   "id": "c9ee79bce61fb1ec"
  },
  {
   "metadata": {
    "ExecuteTime": {
     "end_time": "2025-10-24T18:07:08.799537Z",
     "start_time": "2025-10-24T18:07:08.796569Z"
    }
   },
   "cell_type": "code",
   "source": [
    "p_yes = len(play_yes) / total\n",
    "p_no = len(play_no) / total\n",
    "\n",
    "print(f\"1. PRIOR PROBABILITIES:\")\n",
    "print(f\"   P(Play=Yes) = {len(play_yes)}/{total} = {p_yes:.4f}\")\n",
    "print(f\"   P(Play=No)  = {len(play_no)}/{total} = {p_no:.4f}\")"
   ],
   "id": "98a5ce7bb0d36ba1",
   "outputs": [
    {
     "name": "stdout",
     "output_type": "stream",
     "text": [
      "1. PRIOR PROBABILITIES:\n",
      "   P(Play=Yes) = 9/14 = 0.6429\n",
      "   P(Play=No)  = 5/14 = 0.3571\n"
     ]
    }
   ],
   "execution_count": 26
  },
  {
   "metadata": {},
   "cell_type": "markdown",
   "source": "Definim noua instanță pe care vrem să o clasificăm.",
   "id": "50f1f7172f1a416f"
  },
  {
   "metadata": {
    "ExecuteTime": {
     "end_time": "2025-10-24T18:07:08.831706Z",
     "start_time": "2025-10-24T18:07:08.829095Z"
    }
   },
   "cell_type": "code",
   "source": [
    "new_instance = {\n",
    "    'Weather': 'Sunny',\n",
    "    'Temperature': 'High',\n",
    "    'Humidity': 'Normal',\n",
    "    'Wind': 'No'\n",
    "}\n",
    "\n",
    "print(f\"2. NEW INSTANCE TO CLASSIFY:\")\n",
    "for key, value in new_instance.items():\n",
    "    print(f\"   {key}: {value}\")"
   ],
   "id": "5f8407ae483f629",
   "outputs": [
    {
     "name": "stdout",
     "output_type": "stream",
     "text": [
      "2. NEW INSTANCE TO CLASSIFY:\n",
      "   Weather: Sunny\n",
      "   Temperature: High\n",
      "   Humidity: Normal\n",
      "   Wind: No\n"
     ]
    }
   ],
   "execution_count": 27
  },
  {
   "metadata": {},
   "cell_type": "markdown",
   "source": "Calculăm probabilitatea condițională pentru fiecare caracteristică (feature) de intrare.",
   "id": "2d8fd28fc16bcf1d"
  },
  {
   "metadata": {
    "ExecuteTime": {
     "end_time": "2025-10-24T18:07:08.861967Z",
     "start_time": "2025-10-24T18:07:08.855173Z"
    }
   },
   "cell_type": "code",
   "source": [
    "print(f\"3. CONDITIONAL PROBABILITIES for Play=Yes:\")\n",
    "# din zilele în care s-a jucat ...\n",
    "p_sunny_yes = len(play_yes[play_yes['Weather'] == 'Sunny']) / len(play_yes) # în câte a fost soare?\n",
    "p_high_yes = len(play_yes[play_yes['Temperature'] == 'High']) / len(play_yes) # în câte a fost temperatură mare?\n",
    "p_normal_yes = len(play_yes[play_yes['Humidity'] == 'Normal']) / len(play_yes) # în câte a fost umiditate normală?\n",
    "p_no_wind_yes = len(play_yes[play_yes['Wind'] == 'No']) / len(play_yes) # în câte nu a fost vânt?\n",
    "\n",
    "print(f\"   P(Sunny|Yes)   = {len(play_yes[play_yes['Weather'] == 'Sunny'])}/{len(play_yes)} = {p_sunny_yes:.4f}\")\n",
    "print(f\"   P(High|Yes)    = {len(play_yes[play_yes['Temperature'] == 'High'])}/{len(play_yes)} = {p_high_yes:.4f}\")\n",
    "print(f\"   P(Normal|Yes)  = {len(play_yes[play_yes['Humidity'] == 'Normal'])}/{len(play_yes)} = {p_normal_yes:.4f}\")\n",
    "print(f\"   P(No wind|Yes) = {len(play_yes[play_yes['Wind'] == 'No'])}/{len(play_yes)} = {p_no_wind_yes:.4f}\")\n",
    "\n",
    "print(f\"\\n4. CONDITIONAL PROBABILITIES for Play=No:\")\n",
    "# din zilele în care NU s-a jucat ...\n",
    "p_sunny_no = len(play_no[play_no['Weather'] == 'Sunny']) / len(play_no) # în câte a fost soare?\n",
    "p_high_no = len(play_no[play_no['Temperature'] == 'High']) / len(play_no) # în câte a fost temperatură mare?\n",
    "p_normal_no = len(play_no[play_no['Humidity'] == 'Normal']) / len(play_no) # în câte a fost umiditate normală?\n",
    "p_no_wind_no = len(play_no[play_no['Wind'] == 'No']) / len(play_no) # în câte nu a fost vânt?\n",
    "\n",
    "print(f\"   P(Sunny|No)   = {len(play_no[play_no['Weather'] == 'Sunny'])}/{len(play_no)} = {p_sunny_no:.4f}\")\n",
    "print(f\"   P(High|No)    = {len(play_no[play_no['Temperature'] == 'High'])}/{len(play_no)} = {p_high_no:.4f}\")\n",
    "print(f\"   P(Normal|No)  = {len(play_no[play_no['Humidity'] == 'Normal'])}/{len(play_no)} = {p_normal_no:.4f}\")\n",
    "print(f\"   P(No wind|No) = {len(play_no[play_no['Wind'] == 'No'])}/{len(play_no)} = {p_no_wind_no:.4f}\")"
   ],
   "id": "6a06c33f40546ad3",
   "outputs": [
    {
     "name": "stdout",
     "output_type": "stream",
     "text": [
      "3. CONDITIONAL PROBABILITIES for Play=Yes:\n",
      "   P(Sunny|Yes)   = 2/9 = 0.2222\n",
      "   P(High|Yes)    = 2/9 = 0.2222\n",
      "   P(Normal|Yes)  = 6/9 = 0.6667\n",
      "   P(No wind|Yes) = 6/9 = 0.6667\n",
      "\n",
      "4. CONDITIONAL PROBABILITIES for Play=No:\n",
      "   P(Sunny|No)   = 3/5 = 0.6000\n",
      "   P(High|No)    = 2/5 = 0.4000\n",
      "   P(Normal|No)  = 1/5 = 0.2000\n",
      "   P(No wind|No) = 2/5 = 0.4000\n"
     ]
    }
   ],
   "execution_count": 28
  },
  {
   "metadata": {},
   "cell_type": "markdown",
   "source": "Aplicăm formula Naive Bayes pentru noua instanță.",
   "id": "a06cf984b993effc"
  },
  {
   "metadata": {
    "ExecuteTime": {
     "end_time": "2025-10-24T18:07:08.894737Z",
     "start_time": "2025-10-24T18:07:08.891897Z"
    }
   },
   "cell_type": "code",
   "source": [
    "prob_yes = p_yes * p_sunny_yes * p_high_yes * p_normal_yes * p_no_wind_yes\n",
    "prob_no = p_no * p_sunny_no * p_high_no * p_normal_no * p_no_wind_no\n",
    "\n",
    "print(f\"5. NAIVE BAYES CALCULATION:\")\n",
    "print(f\"   P(Yes|X) ∝ {p_yes:.4f} × {p_sunny_yes:.4f} × {p_high_yes:.4f} × {p_normal_yes:.4f} × {p_no_wind_yes:.4f}\")\n",
    "print(f\"           = {prob_yes:.6f}\")\n",
    "print(f\"\\n   P(No|X)  ∝ {p_no:.4f} × {p_sunny_no:.4f} × {p_high_no:.4f} × {p_normal_no:.4f} × {p_no_wind_no:.4f}\")\n",
    "print(f\"           = {prob_no:.6f}\")"
   ],
   "id": "b4590a6d2e3f6056",
   "outputs": [
    {
     "name": "stdout",
     "output_type": "stream",
     "text": [
      "5. NAIVE BAYES CALCULATION:\n",
      "   P(Yes|X) ∝ 0.6429 × 0.2222 × 0.2222 × 0.6667 × 0.6667\n",
      "           = 0.014109\n",
      "\n",
      "   P(No|X)  ∝ 0.3571 × 0.6000 × 0.4000 × 0.2000 × 0.4000\n",
      "           = 0.006857\n"
     ]
    }
   ],
   "execution_count": 29
  },
  {
   "metadata": {},
   "cell_type": "markdown",
   "source": "Calculăm probabilitățile normalizate.",
   "id": "d2696dc406daddc6"
  },
  {
   "metadata": {
    "ExecuteTime": {
     "end_time": "2025-10-24T18:07:08.927186Z",
     "start_time": "2025-10-24T18:07:08.924736Z"
    }
   },
   "cell_type": "code",
   "source": [
    "total_prob = prob_yes + prob_no\n",
    "prob_yes_norm = prob_yes / total_prob\n",
    "prob_no_norm = prob_no / total_prob\n",
    "\n",
    "print(f\"6. NORMALIZED PROBABILITIES:\")\n",
    "print(f\"   P(Yes|X) = {prob_yes:.6f} / {total_prob:.6f} = {prob_yes_norm:.4f} ({prob_yes_norm * 100:.2f}%)\")\n",
    "print(f\"   P(No|X)  = {prob_no:.6f} / {total_prob:.6f} = {prob_no_norm:.4f} ({prob_no_norm * 100:.2f}%)\")"
   ],
   "id": "d155761c854be4e9",
   "outputs": [
    {
     "name": "stdout",
     "output_type": "stream",
     "text": [
      "6. NORMALIZED PROBABILITIES:\n",
      "   P(Yes|X) = 0.014109 / 0.020966 = 0.6729 (67.29%)\n",
      "   P(No|X)  = 0.006857 / 0.020966 = 0.3271 (32.71%)\n"
     ]
    }
   ],
   "execution_count": 30
  },
  {
   "metadata": {},
   "cell_type": "markdown",
   "source": "Afișăm predicția calculată manual.",
   "id": "9fc68e0dd308fc7b"
  },
  {
   "metadata": {
    "ExecuteTime": {
     "end_time": "2025-10-24T18:07:08.958313Z",
     "start_time": "2025-10-24T18:07:08.955654Z"
    }
   },
   "cell_type": "code",
   "source": [
    "prediction_manual = 'Yes' if prob_yes > prob_no else 'No'\n",
    "print(f\"7. PREDICTION: Play = {prediction_manual}\")\n",
    "print(f\"   (Since P(Yes|X) {'>' if prob_yes > prob_no else '<'} P(No|X))\")"
   ],
   "id": "30975c155f6a7370",
   "outputs": [
    {
     "name": "stdout",
     "output_type": "stream",
     "text": [
      "7. PREDICTION: Play = Yes\n",
      "   (Since P(Yes|X) > P(No|X))\n"
     ]
    }
   ],
   "execution_count": 31
  },
  {
   "metadata": {},
   "cell_type": "markdown",
   "source": "Testăm folosind algoritmul Naive Bayes definit în `scikit-learn`.",
   "id": "23882ebf05e792e1"
  },
  {
   "metadata": {
    "ExecuteTime": {
     "end_time": "2025-10-24T18:07:09.004689Z",
     "start_time": "2025-10-24T18:07:08.996836Z"
    }
   },
   "cell_type": "code",
   "source": [
    "print(f\"{'=' * 60}\")\n",
    "print(\"SKLEARN IMPLEMENTATION\")\n",
    "print(f\"{'=' * 60}\")\n",
    "\n",
    "le_dict = {}\n",
    "df_encoded = df.copy()\n",
    "\n",
    "for column in df.columns:\n",
    "    le = LabelEncoder() # încarcă LabelEncoder-ul (pentru transformarea cuvintelor în date numerice)\n",
    "    df_encoded[column] = le.fit_transform(df[column]) # transformă datele\n",
    "    le_dict[column] = le # salvează coloana transformată\n",
    "\n",
    "X = df_encoded.drop('Play', axis=1).values # datele de intrare\n",
    "y = df_encoded['Play'].values # datele de ieșire (dacă s-a jucat sau nu)\n",
    "\n",
    "nb_model = CategoricalNB() # încarcă modelul de clasificare Naive Bayes\n",
    "nb_model.fit(X, y) # antrenează modelul\n",
    "\n",
    "y_pred = nb_model.predict(X) # calculează predicția\n",
    "\n",
    "# codifică instanța nouă pe care dorim să o testăm\n",
    "new_instance_encoded = []\n",
    "for col in ['Weather', 'Temperature', 'Humidity', 'Wind']:\n",
    "    value = new_instance[col]\n",
    "    encoded_value = le_dict[col].transform([value])[0]\n",
    "    new_instance_encoded.append(encoded_value)\n",
    "\n",
    "new_instance_array = np.array([new_instance_encoded])\n",
    "prediction_sklearn = nb_model.predict(new_instance_array)[0] # calculează predicția\n",
    "probabilities_sklearn = nb_model.predict_proba(new_instance_array)[0] # calculează probabilitățile\n",
    "\n",
    "prediction_label = le_dict['Play'].inverse_transform([prediction_sklearn])[0] # transformă predicția numerică în cuvânt\n",
    "\n",
    "print(f\"\\nPrediction for new instance: {prediction_label}\")\n",
    "print(f\"Probabilities: No={probabilities_sklearn[0]:.4f}, Yes={probabilities_sklearn[1]:.4f}\")"
   ],
   "id": "c890476fb46a4e8f",
   "outputs": [
    {
     "name": "stdout",
     "output_type": "stream",
     "text": [
      "============================================================\n",
      "SKLEARN IMPLEMENTATION\n",
      "============================================================\n",
      "\n",
      "Prediction for new instance: Yes\n",
      "Probabilities: No=0.3351, Yes=0.6649\n"
     ]
    }
   ],
   "execution_count": 32
  },
  {
   "metadata": {},
   "cell_type": "markdown",
   "source": "Calculăm și afișăm matricea de confuzie.",
   "id": "9961e6588b90b5fc"
  },
  {
   "metadata": {
    "ExecuteTime": {
     "end_time": "2025-10-24T18:07:09.059109Z",
     "start_time": "2025-10-24T18:07:09.055912Z"
    }
   },
   "cell_type": "code",
   "source": [
    "cm = confusion_matrix(y, y_pred)\n",
    "tn, fp, fn, tp = cm.ravel()\n",
    "\n",
    "print(f\"{'=' * 60}\")\n",
    "print(\"CONFUSION MATRIX (Training Data)\")\n",
    "print(f\"{'=' * 60}\")\n",
    "print(f\"\\n                Predicted\")\n",
    "print(f\"              No      Yes\")\n",
    "print(f\"Actual No     {tn:3d}     {fp:3d}\")\n",
    "print(f\"Actual Yes    {fn:3d}     {tp:3d}\")\n"
   ],
   "id": "125b30583ad709e",
   "outputs": [
    {
     "name": "stdout",
     "output_type": "stream",
     "text": [
      "============================================================\n",
      "CONFUSION MATRIX (Training Data)\n",
      "============================================================\n",
      "\n",
      "                Predicted\n",
      "              No      Yes\n",
      "Actual No       4       1\n",
      "Actual Yes      0       9\n"
     ]
    }
   ],
   "execution_count": 33
  },
  {
   "metadata": {},
   "cell_type": "markdown",
   "source": "Calculăm și afișăm metricile de performanță.",
   "id": "3b55e9888152bfd3"
  },
  {
   "metadata": {
    "ExecuteTime": {
     "end_time": "2025-10-24T18:07:09.097951Z",
     "start_time": "2025-10-24T18:07:09.092374Z"
    }
   },
   "cell_type": "code",
   "source": [
    "accuracy = accuracy_score(y, y_pred)\n",
    "precision = precision_score(y, y_pred)\n",
    "recall = recall_score(y, y_pred)\n",
    "f1 = f1_score(y, y_pred)\n",
    "\n",
    "print(f\"{'=' * 60}\")\n",
    "print(\"PERFORMANCE METRICS\")\n",
    "print(f\"{'=' * 60}\")\n",
    "print(f\"True Positives (TP):   {tp}\")\n",
    "print(f\"True Negatives (TN):   {tn}\")\n",
    "print(f\"False Positives (FP):  {fp}\")\n",
    "print(f\"False Negatives (FN):  {fn}\")\n",
    "print(f\"\\nAccuracy:  {accuracy:.4f} ({accuracy * 100:.2f}%)\")\n",
    "print(f\"Precision: {precision:.4f} ({precision * 100:.2f}%)\")\n",
    "print(f\"Recall:    {recall:.4f} ({recall * 100:.2f}%)\")\n",
    "print(f\"F1-Score:  {f1:.4f}\")"
   ],
   "id": "dc4cbb20d1c2aaae",
   "outputs": [
    {
     "name": "stdout",
     "output_type": "stream",
     "text": [
      "============================================================\n",
      "PERFORMANCE METRICS\n",
      "============================================================\n",
      "True Positives (TP):   9\n",
      "True Negatives (TN):   4\n",
      "False Positives (FP):  1\n",
      "False Negatives (FN):  0\n",
      "\n",
      "Accuracy:  0.9286 (92.86%)\n",
      "Precision: 0.9000 (90.00%)\n",
      "Recall:    1.0000 (100.00%)\n",
      "F1-Score:  0.9474\n"
     ]
    }
   ],
   "execution_count": 34
  },
  {
   "metadata": {},
   "cell_type": "markdown",
   "source": "Vizualizăm matricea de confuzie și metricile de performanță.",
   "id": "2a44d0bacf707eec"
  },
  {
   "metadata": {
    "ExecuteTime": {
     "end_time": "2025-10-24T18:07:09.257926Z",
     "start_time": "2025-10-24T18:07:09.131822Z"
    }
   },
   "cell_type": "code",
   "source": [
    "fig, axes = plt.subplots(1, 2, figsize=(14, 5))\n",
    "\n",
    "sns.heatmap(cm, annot=True, fmt='d', cmap='Greens', ax=axes[0],\n",
    "            xticklabels=['Predicted No', 'Predicted Yes'],\n",
    "            yticklabels=['Actual No', 'Actual Yes'],\n",
    "            annot_kws={\"size\": 16})\n",
    "axes[0].set_title('Confusion Matrix', fontsize=14, fontweight='bold')\n",
    "axes[0].set_ylabel('Actual Class', fontsize=12)\n",
    "axes[0].set_xlabel('Predicted Class', fontsize=12)\n",
    "\n",
    "metrics_names = ['Accuracy', 'Precision', 'Recall', 'F1-Score']\n",
    "metrics_values = [accuracy, precision, recall, f1]\n",
    "colors = ['#2ecc71', '#3498db', '#e74c3c', '#f39c12']\n",
    "\n",
    "bars = axes[1].bar(metrics_names, metrics_values, color=colors, edgecolor='black', linewidth=1.5)\n",
    "axes[1].set_ylabel('Score', fontsize=12)\n",
    "axes[1].set_title('Performance Metrics', fontsize=14, fontweight='bold')\n",
    "axes[1].set_ylim(0, 1.1)\n",
    "axes[1].axhline(y=1.0, color='gray', linestyle='--', linewidth=1, alpha=0.5)\n",
    "axes[1].grid(axis='y', alpha=0.3)\n",
    "\n",
    "for bar in bars:\n",
    "    height = bar.get_height()\n",
    "    axes[1].text(bar.get_x() + bar.get_width() / 2., height,\n",
    "                 f'{height:.3f}',\n",
    "                 ha='center', va='bottom', fontsize=11, fontweight='bold')\n",
    "\n",
    "plt.tight_layout()\n",
    "plt.show()"
   ],
   "id": "24b949b43515b955",
   "outputs": [
    {
     "data": {
      "text/plain": [
       "<Figure size 1400x500 with 3 Axes>"
      ],
      "image/png": "[encoded data removed]"
     },
     "metadata": {},
     "output_type": "display_data"
    }
   ],
   "execution_count": 35
  },
  {
   "metadata": {},
   "cell_type": "markdown",
   "source": "Scurtă descriere Laplace smoothing",
   "id": "d075d1aae81bdd6f"
  },
  {
   "metadata": {
    "ExecuteTime": {
     "end_time": "2025-10-24T18:07:09.277453Z",
     "start_time": "2025-10-24T18:07:09.274298Z"
    }
   },
   "cell_type": "code",
   "source": [
    "print(f\"\\n{'=' * 60}\")\n",
    "print(\"LAPLACE SMOOTHING\")\n",
    "print(f\"{'=' * 60}\")\n",
    "print(\"Laplace smoothing prevents zero probabilities when a feature\")\n",
    "print(\"value never appears with a certain class in the training data.\")\n",
    "print(\"\\nFormula: P(x_i|c_j) = (n_ij + 1) / (n_j + c)\")\n",
    "print(\"  where n_ij = count of feature value in class\")\n",
    "print(\"        n_j = total count of class\")\n",
    "print(\"        c = number of classes\")\n",
    "print(\"\\nExample: If 'Windy' weather never appeared with Play=Yes,\")\n",
    "print(\"without smoothing P(Windy|Yes) = 0, making P(Yes|X) = 0\")\n",
    "print(\"With smoothing: P(Windy|Yes) = (0+1)/(9+2) = 0.091\")\n",
    "print(\"\\nThe sklearn CategoricalNB uses alpha parameter for smoothing.\")\n",
    "print(f\"Current model alpha: {nb_model.alpha}\")"
   ],
   "id": "5e413abc9f16f98d",
   "outputs": [
    {
     "name": "stdout",
     "output_type": "stream",
     "text": [
      "\n",
      "============================================================\n",
      "LAPLACE SMOOTHING\n",
      "============================================================\n",
      "Laplace smoothing prevents zero probabilities when a feature\n",
      "value never appears with a certain class in the training data.\n",
      "\n",
      "Formula: P(x_i|c_j) = (n_ij + 1) / (n_j + c)\n",
      "  where n_ij = count of feature value in class\n",
      "        n_j = total count of class\n",
      "        c = number of classes\n",
      "\n",
      "Example: If 'Windy' weather never appeared with Play=Yes,\n",
      "without smoothing P(Windy|Yes) = 0, making P(Yes|X) = 0\n",
      "With smoothing: P(Windy|Yes) = (0+1)/(9+2) = 0.091\n",
      "\n",
      "The sklearn CategoricalNB uses alpha parameter for smoothing.\n",
      "Current model alpha: 1.0\n"
     ]
    }
   ],
   "execution_count": 36
  },
  {
   "metadata": {},
   "cell_type": "markdown",
   "source": "# Temă",
   "id": "50496dae81967309"
  },
  {
   "metadata": {},
   "cell_type": "markdown",
   "source": [
    "**Sarcină:** Rezolvați și prezentați problemele următoare similar cu cele rezolvate la laborator.\n",
    "\n",
    "Fiecare echipă este necesar să rezolve 2 probleme: Naive Bayes și una dintre regresii.\n",
    "Pentru 2 puncte bonus (în caz de întârziere a temei) se vor rezolva toate 3 problemele."
   ],
   "id": "64856aaf31ff99b5"
  },
  {
   "metadata": {},
   "cell_type": "markdown",
   "source": "## Regresie polinomială",
   "id": "5982763dc70cf49d"
  },
  {
   "metadata": {},
   "cell_type": "markdown",
   "source": [
    "Un fermier dorește să prezică randamentul de grâu în funcție de cantitatea de fertilizator utilizată.\n",
    "\n",
    "Date:\n",
    "- Fertilizator (kg/ hectar): `[10, 20, 30, 40, 50, 60, 70, 80, 90, 100, 110, 120, 130, 140, 150]`\n",
    "- Randament (tone/ hectar): `[2.1, 2.8, 3.6, 4.5, 5.2, 5.8, 6.2, 6.4, 6.5, 6.4, 6.2, 5.9, 5.4, 4.8, 4.0]`\n",
    "\n",
    "Notă: prea puțin fertilizator = randament mic; cantitate optimă = randament mare; prea mult = scădere randament.\n",
    "\n",
    "Sarcini:\n",
    "1. Împărțire date în seturi de antrenament (primele 12 puncte) și testare (ultimele 3 puncte)\n",
    "2. Antrenare modele de regresie polinomială (grad 1, 2, 3 și 4)\n",
    "3. Calculare MAE, MSE, RMSE și R<sup>2</sup> atât pentru datele de antrenare cât și testare\n",
    "4. Identificarea cantității optime de fertilizator\n",
    "5. Explicare care grad reprezintă cel mai bine realitatea\n",
    "6. Vizualizarea tuturor modelelor și discutarea overfitting"
   ],
   "id": "530f7a8aaf1cb095"
  },
  {
   "metadata": {},
   "cell_type": "markdown",
   "source": "## Regresie logistică",
   "id": "3cb1e28978c34dca"
  },
  {
   "metadata": {},
   "cell_type": "markdown",
   "source": [
    "Dorim să prezicem șansele de boală cardiacă în funcție de vârstă și nivel de colesterol.\n",
    "\n",
    "Date:\n",
    "- Vârstă: `[25, 30, 35, 40, 45, 50, 52, 55, 58, 60, 62, 65, 68, 70, 72, 75, 78, 80]`\n",
    "- Colesterol (mg/dL): `[180, 190, 195, 200, 210, 220, 235, 240, 250, 255, 265, 270, 280, 285, 295, 300, 310, 320]`\n",
    "- Boală cardiacă (1=Da, 0=Nu): `[0, 0, 0, 0, 0, 0, 1, 0, 1, 1, 1, 1, 1, 1, 1, 1, 1, 1]`\n",
    "\n",
    "Sarcini:\n",
    "1. Împărțire date în seturi de antrenament (primele 14 puncte) și testare (ultimele 4 puncte)\n",
    "2. Antrenare model de regresie logistică\n",
    "3. Calcularea tuturor metricilor pentru seturile de date de antrenare și testare\n",
    "4. Vizualizarea funcției de decizie\n",
    "5. Prezicerea probabilității de boală pentru o persoană de 55 de ani cu nivelul de colesterol 260 mg/dl\n",
    "6. Discutarea importanței fiecărui feature (caracteristici)"
   ],
   "id": "c37cb377f0dde07d"
  },
  {
   "metadata": {},
   "cell_type": "markdown",
   "source": "## Clasificator Naive Bayes",
   "id": "d3d5bdb33cbdb4d2"
  },
  {
   "metadata": {},
   "cell_type": "markdown",
   "source": [
    "Clasificare email drept spam sau nu bazat pe prezența cuvinetelor.\n",
    "\n",
    "Date:\n",
    "| Email | Conține \"Free\" | Conține \"Money\" | Conține \"Winner\" | Are link | Spam |\n",
    "|-------|----------------|------------------|-------------------|----------|------|\n",
    "| 1 | Da | Da | Da | Da | Da |\n",
    "| 2 | Da | Da | Nu | Da | Da |\n",
    "| 3 | Nu | Nu | Nu | Nu | Nu |\n",
    "| 4 | Da | Nu | Da | Da | Da |\n",
    "| 5 | Nu | Nu | Nu | Da | Nu |\n",
    "| 6 | Da | Da | Da | Da | Da |\n",
    "| 7 | Nu | Da | Nu | Da | Da |\n",
    "| 8 | Nu | Nu | Nu | Nu | Nu |\n",
    "| 9 | Da | Da | Da | Nu | Da |\n",
    "| 10 | Nu | Nu | Da | Nu | Nu |\n",
    "| 11 | Da | Nu | Nu | Da | Da |\n",
    "| 12 | Nu | Nu | Nu | Nu | Nu |\n",
    "| 13 | Da | Da | Da | Da | Da |\n",
    "| 14 | Nu | Da | Da | Da | Da |\n",
    "| 15 | Nu | Nu | Nu | Da | Nu |\n",
    "| 16 | Da | Da | Nu | Da | Da |\n",
    "| 17 | Nu | Nu | Nu | Nu | Nu |\n",
    "| 18 | Da | Nu | Da | Da | Da |\n",
    "| 19 | Nu | Nu | Da | Nu | Da |\n",
    "| 20 | Nu | Nu | Nu | Nu | Nu |\n",
    "\n",
    "Predicție nouă: Free=Da, Money=Nu, Winner=Da, Link=Da\n",
    "\n",
    "Sarcini:\n",
    "1. Împărțire date în seturi de antrenament (primele 16 puncte) și testare (ultimele 4 puncte)\n",
    "2. Calculare manual prior posibility P(Play=Yes) și P(Play=No)\n",
    "3. Calculare manual probabilități condiționale\n",
    "4. Clasificarea unui nou email: `Free=Yes,Money=No,Winner=Yes,HasLink=Yes`\n",
    "5. Antrenare model și comparare rezultate\n",
    "6. Calculare matrice de confuzie și toate metricile atât pentru datele de antrenament cât și de test\n",
    "7. Aplicare Laplace smoothing și observat efecte\n",
    "8. Vizualizare importanță caracteristici (care cuvinte sunt cele mai bune indicatoare pentru spam)"
   ],
   "id": "c36371fbb41ec5d6"
  }
 ],
 "metadata": {
  "kernelspec": {
   "display_name": ".venv",
   "language": "python",
   "name": "python3"
  },
  "language_info": {
   "codemirror_mode": {
    "name": "ipython",
    "version": 3
   },
   "file_extension": ".py",
   "mimetype": "text/x-python",
   "name": "python",
   "nbconvert_exporter": "python",
   "pygments_lexer": "ipython3",
   "version": "3.13.3"
  }
 },
 "nbformat": 4,
 "nbformat_minor": 5
}
